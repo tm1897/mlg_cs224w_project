{
 "cells": [
  {
   "cell_type": "code",
   "execution_count": 1,
   "metadata": {},
   "outputs": [
    {
     "name": "stdout",
     "output_type": "stream",
     "text": [
      "19524\n",
      "92834\n"
     ]
    }
   ],
   "source": [
    "import networkx as nx\n",
    "\n",
    "def get_artists(graph: nx.Graph):\n",
    "    with open('../../data/hetrec2011-lastfm-2k/artists.dat', encoding='UTF-8') as f:\n",
    "        for i, line in enumerate(f.readlines()):\n",
    "            words = line.split('\\t')\n",
    "            if i!=0:\n",
    "                graph.add_node('a'+words[0], bipartite=0)\n",
    "    return graph\n",
    "\n",
    "def get_users(graph: nx.Graph):\n",
    "    with open('../../data/hetrec2011-lastfm-2k/user_friends.dat', encoding='UTF-8') as f:\n",
    "        added = set()\n",
    "        for i, line in enumerate(f.readlines()):\n",
    "            words = line.split('\\t')\n",
    "            if i!=0:\n",
    "                if words[0] not in added:\n",
    "                    graph.add_node('u'+words[0].strip(), bipartite=1)\n",
    "                    added.add(words[0])\n",
    "                if words[1] not in added:\n",
    "                    graph.add_node('u'+words[1].strip(), bipartite=1)\n",
    "                    added.add(words[1])\n",
    "    return graph\n",
    "\n",
    "def get_edges(graph:nx.Graph):\n",
    "    with open('../../data/hetrec2011-lastfm-2k/user_artists.dat', encoding='UTF-8') as f:\n",
    "        for i, line in enumerate(f.readlines()):\n",
    "            words = line.split('\\t')\n",
    "            if i!=0:\n",
    "                graph.add_edge('u'+words[0], 'a'+words[1], weight=int(words[2].strip()))\n",
    "            \n",
    "    return graph\n",
    "\n",
    "def get_timestamps(graph:nx.Graph):\n",
    "    with open('../../data/hetrec2011-lastfm-2k/user_taggedartists-timestamps.dat', encoding='UTF-8') as f:\n",
    "        dictionary_of_scores = dict()\n",
    "        for i, line in enumerate(f.readlines()):\n",
    "            words = line.split('\\t')\n",
    "            if i!=0:\n",
    "                dictionary_of_scores[('u'+words[0], 'a'+words[1])] = words[3].strip()\n",
    "\n",
    "        nx.set_edge_attributes(graph, dictionary_of_scores, name='timestamp')\n",
    "        return graph\n",
    "\n",
    "if __name__=='__main__':\n",
    "    graph = nx.Graph()\n",
    "    graph = get_artists(graph)\n",
    "    graph = get_users(graph)\n",
    "    graph = get_edges(graph)\n",
    "    graph = get_timestamps(graph)\n",
    "    #print(graph.edges(data=True))\n",
    "    print(graph.number_of_nodes())\n",
    "    print(graph.number_of_edges())"
   ]
  },
  {
   "cell_type": "code",
   "execution_count": 2,
   "metadata": {},
   "outputs": [
    {
     "name": "stdout",
     "output_type": "stream",
     "text": [
      "Number of nodes:  8678\n",
      "Number of edges: 20665\n",
      "\n",
      "Number of connected components: 188\n"
     ]
    }
   ],
   "source": [
    "graph_real = nx.readwrite.gpickle.read_gpickle(\"../../data/network.gpickle\")\n",
    "print(\"Number of nodes: \", graph_real.number_of_nodes())\n",
    "print(\"Number of edges:\", graph_real.number_of_edges())\n",
    "print(\"\\nNumber of connected components:\", nx.number_connected_components(graph_real))"
   ]
  },
  {
   "cell_type": "code",
   "execution_count": 3,
   "metadata": {},
   "outputs": [
    {
     "name": "stdout",
     "output_type": "stream",
     "text": [
      "All nodes: 8132\n",
      "Artists: 6496 , Users: 1636\n",
      "Number of edges: 20306\n"
     ]
    }
   ],
   "source": [
    "from networkx.algorithms import bipartite\n",
    "Gcc = sorted(nx.connected_components(graph_real), key=len, reverse=True)\n",
    "G0 = graph_real.subgraph(Gcc[0])\n",
    "print(\"All nodes:\", G0.number_of_nodes()) # number of nodes in the biggest component:\n",
    "users_nodes = [node for node in G0.nodes if G0.nodes[node]['bipartite'] ==0]\n",
    "artists_nodes   = [node for node in G0.nodes if G0.nodes[node]['bipartite'] ==1]\n",
    "print(\"Artists:\", len(artists_nodes), \", Users:\", len(users_nodes))\n",
    "print(\"Number of edges:\", G0.number_of_edges())"
   ]
  },
  {
   "cell_type": "code",
   "execution_count": 4,
   "metadata": {},
   "outputs": [
    {
     "name": "stdout",
     "output_type": "stream",
     "text": [
      "Average node degree:   4.994097393015249\n",
      "Average user degree:  12.4119804400978\n",
      "Average artist degree: 3.125923645320197\n"
     ]
    }
   ],
   "source": [
    "import numpy as np\n",
    "avg_node_degree = np.mean([tup[1] for tup in G0.degree])\n",
    "print(\"Average node degree:  \", avg_node_degree)\n",
    "# print(nx.algorithms.cluster.average_clustering(G0)) # The clustering coefficient is 0 for a bipartite graph!!\n",
    "# Average number of artists listened by user:\n",
    "avg_user_degree   = np.mean([tup[1] for tup in G0.degree if tup[0] in   users_nodes])\n",
    "avg_artist_degree = np.mean([tup[1] for tup in G0.degree if tup[0] in artists_nodes])\n",
    "print(\"Average user degree: \", avg_user_degree)\n",
    "print(\"Average artist degree:\", avg_artist_degree)"
   ]
  },
  {
   "cell_type": "code",
   "execution_count": 5,
   "metadata": {},
   "outputs": [],
   "source": [
    "from pathlib import Path\n",
    "\n",
    "import pandas as pd\n",
    "\n",
    "\n",
    "class TrainTestGenerator:\n",
    "    def __init__(self, data_dir: str):\n",
    "        self.data_dir = Path(data_dir)\n",
    "\n",
    "    def prepare_data(self):\n",
    "        # Read the raw data\n",
    "        df_user_artists = pd.read_table(self.data_dir / \"hetrec2011-lastfm-2k\" / \"user_artists.dat\")\n",
    "        df_tagged = pd.read_table(self.data_dir / \"hetrec2011-lastfm-2k\" / \"user_taggedartists-timestamps.dat\")\n",
    "\n",
    "        # Remove duplicate tags (keep first tag)\n",
    "        df_tagged = df_tagged.groupby([\"userID\", \"artistID\", \"tagID\"])[\"timestamp\"].min().reset_index()\n",
    "\n",
    "        # Merge the datasets - to have weights and timestamps\n",
    "        df = pd.merge(\n",
    "            df_user_artists,\n",
    "            df_tagged,\n",
    "            on=[\"userID\", \"artistID\"]\n",
    "        ).drop_duplicates(subset=[\"userID\", \"artistID\"])\n",
    "\n",
    "        # Parse datetime\n",
    "        df[\"timestamp\"] = pd.to_datetime(df[\"timestamp\"], unit=\"ms\")\n",
    "        # Filter data\n",
    "        df = df[df[\"timestamp\"].dt.year > 2000]\n",
    "        df = df.reset_index(drop=True)\n",
    "\n",
    "        return df\n",
    "\n",
    "    def forward_chaining(self):\n",
    "        data = self.prepare_data()\n",
    "\n",
    "        for test_year in range(2008, 2011+1):\n",
    "            train = data[data[\"timestamp\"].dt.year < test_year]\n",
    "            test = data[data[\"timestamp\"].dt.year == test_year]\n",
    "\n",
    "            yield test_year, train, test"
   ]
  },
  {
   "cell_type": "code",
   "execution_count": 16,
   "metadata": {},
   "outputs": [
    {
     "name": "stdout",
     "output_type": "stream",
     "text": [
      "Unique users:   1824\n",
      "Unique artists: 6854\n",
      "Unique tags:   20664\n",
      "Average user   node degree: 11.33\n",
      "Average artist node degree:  3.01\n"
     ]
    }
   ],
   "source": [
    "class_example = TrainTestGenerator(\"../../data\")\n",
    "data = class_example.prepare_data()\n",
    "print(\"Unique users:  \", len(data['userID'].unique()))\n",
    "print(\"Unique artists:\", len(data['artistID'].unique()))\n",
    "print(\"Unique tags:  \", len(data))\n",
    "print(\"Average user   node degree:\", round(len(data) / len(data['userID'  ].unique()), 2))\n",
    "print(\"Average artist node degree: \", round(len(data) / len(data['artistID'].unique()), 2))"
   ]
  },
  {
   "cell_type": "code",
   "execution_count": 49,
   "metadata": {},
   "outputs": [
    {
     "name": "stdout",
     "output_type": "stream",
     "text": [
      "0 : (0, Timestamp('2005-07-31 22:00:00'), 11, 131, 149)\n",
      "31 : (31, Timestamp('2005-08-31 22:00:00'), 19, 152, 173)\n",
      "61 : (61, Timestamp('2005-09-30 22:00:00'), 22, 170, 192)\n",
      "92 : (92, Timestamp('2005-10-31 23:00:00'), 24, 195, 228)\n",
      "122 : (122, Timestamp('2005-11-30 23:00:00'), 33, 241, 288)\n",
      "153 : (153, Timestamp('2005-12-31 23:00:00'), 35, 268, 322)\n",
      "184 : (184, Timestamp('2006-01-31 23:00:00'), 41, 311, 373)\n",
      "212 : (212, Timestamp('2006-02-28 23:00:00'), 47, 364, 456)\n",
      "243 : (243, Timestamp('2006-03-31 22:00:00'), 56, 397, 513)\n",
      "273 : (273, Timestamp('2006-04-30 22:00:00'), 63, 426, 569)\n",
      "304 : (304, Timestamp('2006-05-31 22:00:00'), 70, 457, 619)\n",
      "334 : (334, Timestamp('2006-06-30 22:00:00'), 84, 510, 722)\n",
      "365 : (365, Timestamp('2006-07-31 22:00:00'), 101, 599, 859)\n",
      "396 : (396, Timestamp('2006-08-31 22:00:00'), 116, 665, 979)\n",
      "426 : (426, Timestamp('2006-09-30 22:00:00'), 134, 758, 1135)\n",
      "457 : (457, Timestamp('2006-10-31 23:00:00'), 148, 839, 1314)\n",
      "487 : (487, Timestamp('2006-11-30 23:00:00'), 166, 895, 1449)\n",
      "518 : (518, Timestamp('2006-12-31 23:00:00'), 189, 962, 1570)\n",
      "549 : (549, Timestamp('2007-01-31 23:00:00'), 206, 1040, 1710)\n",
      "577 : (577, Timestamp('2007-02-28 23:00:00'), 225, 1126, 1873)\n",
      "608 : (608, Timestamp('2007-03-31 22:00:00'), 235, 1232, 2061)\n",
      "638 : (638, Timestamp('2007-04-30 22:00:00'), 253, 1288, 2192)\n",
      "669 : (669, Timestamp('2007-05-31 22:00:00'), 277, 1368, 2387)\n",
      "699 : (699, Timestamp('2007-06-30 22:00:00'), 302, 1454, 2639)\n",
      "730 : (730, Timestamp('2007-07-31 22:00:00'), 322, 1533, 2826)\n",
      "761 : (761, Timestamp('2007-08-31 22:00:00'), 341, 1603, 3017)\n",
      "791 : (791, Timestamp('2007-09-30 22:00:00'), 365, 1698, 3308)\n",
      "822 : (822, Timestamp('2007-10-31 23:00:00'), 390, 1798, 3601)\n",
      "852 : (852, Timestamp('2007-11-30 23:00:00'), 419, 1890, 3858)\n",
      "883 : (883, Timestamp('2007-12-31 23:00:00'), 450, 1972, 4159)\n",
      "914 : (914, Timestamp('2008-01-31 23:00:00'), 481, 2089, 4463)\n",
      "943 : (943, Timestamp('2008-02-29 23:00:00'), 523, 2240, 4808)\n",
      "974 : (974, Timestamp('2008-03-31 22:00:00'), 554, 2352, 5124)\n",
      "1004 : (1004, Timestamp('2008-04-30 22:00:00'), 589, 2482, 5481)\n",
      "1035 : (1035, Timestamp('2008-05-31 22:00:00'), 630, 2637, 5923)\n",
      "1065 : (1065, Timestamp('2008-06-30 22:00:00'), 666, 2771, 6363)\n",
      "1096 : (1096, Timestamp('2008-07-31 22:00:00'), 697, 2900, 6766)\n",
      "1127 : (1127, Timestamp('2008-08-31 22:00:00'), 734, 3028, 7145)\n",
      "1157 : (1157, Timestamp('2008-09-30 22:00:00'), 782, 3167, 7569)\n",
      "1188 : (1188, Timestamp('2008-10-31 23:00:00'), 820, 3279, 7894)\n",
      "1218 : (1218, Timestamp('2008-11-30 23:00:00'), 845, 3417, 8287)\n",
      "1249 : (1249, Timestamp('2008-12-31 23:00:00'), 892, 3575, 8715)\n",
      "1280 : (1280, Timestamp('2009-01-31 23:00:00'), 931, 3717, 9101)\n",
      "1308 : (1308, Timestamp('2009-02-28 23:00:00'), 968, 3855, 9523)\n",
      "1339 : (1339, Timestamp('2009-03-31 22:00:00'), 1002, 3975, 9876)\n",
      "1369 : (1369, Timestamp('2009-04-30 22:00:00'), 1041, 4121, 10316)\n",
      "1400 : (1400, Timestamp('2009-05-31 22:00:00'), 1075, 4257, 10760)\n",
      "1430 : (1430, Timestamp('2009-06-30 22:00:00'), 1114, 4370, 11098)\n",
      "1461 : (1461, Timestamp('2009-07-31 22:00:00'), 1147, 4470, 11470)\n",
      "1492 : (1492, Timestamp('2009-08-31 22:00:00'), 1184, 4552, 11808)\n",
      "1522 : (1522, Timestamp('2009-09-30 22:00:00'), 1217, 4682, 12270)\n",
      "1553 : (1553, Timestamp('2009-10-31 23:00:00'), 1252, 4798, 12685)\n",
      "1583 : (1583, Timestamp('2009-11-30 23:00:00'), 1287, 4886, 12996)\n",
      "1614 : (1614, Timestamp('2009-12-31 23:00:00'), 1324, 4992, 13402)\n",
      "1645 : (1645, Timestamp('2010-01-31 23:00:00'), 1351, 5117, 13829)\n",
      "1673 : (1673, Timestamp('2010-02-28 23:00:00'), 1381, 5243, 14285)\n",
      "1704 : (1704, Timestamp('2010-03-31 22:00:00'), 1422, 5380, 14732)\n",
      "1734 : (1734, Timestamp('2010-04-30 22:00:00'), 1465, 5528, 15319)\n",
      "1765 : (1765, Timestamp('2010-05-31 22:00:00'), 1509, 5660, 15802)\n",
      "1795 : (1795, Timestamp('2010-06-30 22:00:00'), 1559, 5825, 16373)\n",
      "1826 : (1826, Timestamp('2010-07-31 22:00:00'), 1595, 5978, 16906)\n",
      "1857 : (1857, Timestamp('2010-08-31 22:00:00'), 1637, 6116, 17482)\n",
      "1887 : (1887, Timestamp('2010-09-30 22:00:00'), 1673, 6232, 18004)\n",
      "1918 : (1918, Timestamp('2010-10-31 23:00:00'), 1707, 6372, 18457)\n",
      "1948 : (1948, Timestamp('2010-11-30 23:00:00'), 1746, 6483, 18995)\n",
      "1979 : (1979, Timestamp('2010-12-31 23:00:00'), 1778, 6604, 19535)\n",
      "2010 : (2010, Timestamp('2011-01-31 23:00:00'), 1797, 6669, 19955)\n",
      "2038 : (2038, Timestamp('2011-02-28 23:00:00'), 1811, 6763, 20349)\n",
      "2103 : (2103, Timestamp('2011-05-05 17:16:26.545000'), 1816, 6812, 20518)\n",
      "2104 : (2104, Timestamp('2011-05-06 18:14:03.909000'), 1823, 6847, 20634)\n",
      "2107 : (2107, Timestamp('2011-05-09 11:44:57.425000'), 1824, 6854, 20664)\n"
     ]
    }
   ],
   "source": [
    "data = data.sort_values(by='timestamp')\n",
    "earliest = min(data['timestamp'])\n",
    "col = {}\n",
    "for time in data['timestamp']:\n",
    "    num_days = (time-earliest).days\n",
    "    col[num_days]=(num_days, time, len(data.loc[data['timestamp'] <= time]['userID'].unique()),\n",
    "                  len(data.loc[data['timestamp'] <= time]['artistID'].unique()),\n",
    "                  len(data.loc[data['timestamp'] <= time]['userID']))\n",
    "\n",
    "for key in col.keys():\n",
    "    print(key, \":\", col[key])"
   ]
  },
  {
   "cell_type": "code",
   "execution_count": 93,
   "metadata": {},
   "outputs": [],
   "source": [
    "# print(earliest) # 2005-07-31 22:00:00\n",
    "%matplotlib qt\n",
    "x_days        = [col[key][ 0] for key in col.keys()]\n",
    "y_connections = [col[key][-1] for key in col.keys()]\n",
    "y_users       = [col[key][-3] for key in col.keys()]\n",
    "y_artists     = [col[key][-2] for key in col.keys()]\n",
    "\n",
    "years = [str(year) for year in np.arange(2006, 2012)]\n",
    "year_days = [(pd.to_datetime(year+\"-01-01\")-earliest).days for year in years]\n",
    "\n",
    "import matplotlib.pyplot as plt\n",
    "fig, ax = plt.subplots(figsize=(6,5))\n",
    "plt.plot(x_days, y_connections, linewidth=5, color=\"red\", label=\"# Tags\")\n",
    "plt.plot(x_days, y_artists, linewidth=5, color=\"blue\", label=\"# Artists\")\n",
    "plt.plot(x_days, y_users, linewidth=5, color=\"green\", label=\"# Users\")\n",
    "plt.xlim([min(x_days), max(x_days)])\n",
    "plt.xticks(year_days, years, fontsize=15)\n",
    "plt.yticks(fontsize=15)\n",
    "plt.legend(loc=\"upper left\", fontsize=18)\n",
    "plt.xlabel(\"Time [years]\", fontsize=15)\n",
    "plt.grid(True)\n",
    "plt.title(\"The growth of the database through time\", fontsize=15)\n",
    "plt.tight_layout()\n",
    "plt.show()"
   ]
  },
  {
   "cell_type": "code",
   "execution_count": null,
   "metadata": {},
   "outputs": [],
   "source": []
  }
 ],
 "metadata": {
  "kernelspec": {
   "display_name": "Python 3",
   "language": "python",
   "name": "python3"
  },
  "language_info": {
   "codemirror_mode": {
    "name": "ipython",
    "version": 3
   },
   "file_extension": ".py",
   "mimetype": "text/x-python",
   "name": "python",
   "nbconvert_exporter": "python",
   "pygments_lexer": "ipython3",
   "version": "3.7.6"
  }
 },
 "nbformat": 4,
 "nbformat_minor": 2
}