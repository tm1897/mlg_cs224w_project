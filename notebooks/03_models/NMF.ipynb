{
 "cells": [
  {
   "cell_type": "markdown",
   "id": "931ec74d",
   "metadata": {},
   "source": [
    "# NMF - Non-negative matrix factorization"
   ]
  },
  {
   "cell_type": "markdown",
   "id": "67ad87db",
   "metadata": {},
   "source": [
    "## Init"
   ]
  },
  {
   "cell_type": "code",
   "execution_count": 4,
   "id": "571ee595",
   "metadata": {},
   "outputs": [],
   "source": [
    "import numpy as np\n",
    "import pandas as pd\n",
    "from scipy import sparse\n",
    "from functools import partial\n",
    "\n",
    "import plotly.express as px\n",
    "from sklearn.preprocessing import OrdinalEncoder"
   ]
  },
  {
   "cell_type": "code",
   "execution_count": 17,
   "id": "32d02765",
   "metadata": {},
   "outputs": [],
   "source": [
    "import sys\n",
    "sys.path.append(\"../../\")\n",
    "from src.data_preprocessing import TrainTestGenerator\n",
    "from src.evaluator import Evaluator"
   ]
  },
  {
   "cell_type": "code",
   "execution_count": 19,
   "id": "e1099f28",
   "metadata": {},
   "outputs": [],
   "source": [
    "data_dir = \"../../data/\"\n",
    "data_generator = TrainTestGenerator(data_dir)"
   ]
  },
  {
   "cell_type": "markdown",
   "id": "53c91b87",
   "metadata": {},
   "source": [
    "## NMF code"
   ]
  },
  {
   "cell_type": "code",
   "execution_count": 7,
   "id": "a5555140",
   "metadata": {},
   "outputs": [],
   "source": [
    "def update_H(W, H, V):\n",
    "    numerator = W.T.dot(V)\n",
    "    denominator = W.T.dot(W).dot(H) + 1e-10\n",
    "    H = H*(numerator / denominator)\n",
    "    return H\n",
    "\n",
    "def update_W(W, H, V):\n",
    "    numerator = V.dot(H.T)\n",
    "    denominator = W.dot(H).dot(H.T) + 1e-10\n",
    "    W = W*(numerator / denominator)\n",
    "    return W"
   ]
  },
  {
   "cell_type": "code",
   "execution_count": 9,
   "id": "44788b01",
   "metadata": {},
   "outputs": [],
   "source": [
    "def do_nnmf(V, rank=10, iter=100):\n",
    "    \n",
    "    # Initialize \n",
    "    n, m = V.shape\n",
    "    \n",
    "    W = np.abs(np.random.randn(1, n, rank))[0]\n",
    "    H = np.abs(np.random.randn(1, rank, m))[0]\n",
    "    \n",
    "    loss = []\n",
    "    for i in range(iter):\n",
    "        H = update_H(W, H, V)\n",
    "        W = update_W(W, H, V)\n",
    "        \n",
    "        loss.append(sum((V - W.dot(H)).flatten()**2))\n",
    "\n",
    "    return H, W, loss"
   ]
  },
  {
   "cell_type": "markdown",
   "id": "0da939ea",
   "metadata": {},
   "source": [
    "## Model"
   ]
  },
  {
   "cell_type": "code",
   "execution_count": 10,
   "id": "39cdec6a",
   "metadata": {},
   "outputs": [],
   "source": [
    "# Model wrapper\n",
    "\n",
    "class NMF_recommender:\n",
    "    def __init__(self, rank=32, iter=100):\n",
    "        self.rank = rank\n",
    "        self.iter = iter\n",
    "        \n",
    "    def fit(self, data: pd.DataFrame):\n",
    "        np.random.seed(1)\n",
    "        \n",
    "        # Default rankings when userID is not in training set\n",
    "        self.default_recommendation = data[\"artistID\"].value_counts().index.tolist()\n",
    "\n",
    "        data = data.copy()\n",
    "        \n",
    "        self.user_encoder = OrdinalEncoder()\n",
    "        self.artist_encoder = OrdinalEncoder()\n",
    "        \n",
    "        data[[\"userID_ordinal\"]] = self.user_encoder.fit_transform(\n",
    "            data[[\"userID\"]].values\n",
    "        ).astype(int)\n",
    "        data[[\"artistID_ordinal\"]] = self.artist_encoder.fit_transform(\n",
    "            data[[\"artistID\"]].values\n",
    "        ).astype(int)\n",
    "\n",
    "        X = np.zeros([data[\"userID\"].nunique(), data[\"artistID\"].nunique()])\n",
    "        X = np.zeros([data[\"userID\"].nunique(), data[\"artistID\"].nunique()])\n",
    "        X[data[\"userID_ordinal\"], data[\"artistID_ordinal\"]] = 1        \n",
    "\n",
    "        H, W, loss = do_nnmf(X, self.rank, self.iter)\n",
    "        self.H = H\n",
    "        self.W = W\n",
    "\n",
    "    def recommend(self, user_id, n):\n",
    "        try: \n",
    "            user_idx = self.user_encoder.transform(np.array([[user_id]]))[0,0]\n",
    "        except ValueError:\n",
    "            recommendations = self.default_recommendation\n",
    "        else:\n",
    "            user_idx = int(user_idx)\n",
    "\n",
    "            scores = self.W[user_idx, :].dot(self.H)\n",
    "\n",
    "            recommendations_idx = np.argsort(scores)\n",
    "            recommendations_idx = recommendations_idx[:n]\n",
    "\n",
    "            recommendations = self.artist_encoder.inverse_transform(recommendations_idx.reshape(-1, 1))[:, 0]\n",
    "        \n",
    "        return recommendations"
   ]
  },
  {
   "cell_type": "markdown",
   "id": "d20a93c1",
   "metadata": {},
   "source": [
    "## Evaluation"
   ]
  },
  {
   "cell_type": "code",
   "execution_count": 20,
   "id": "806db8ee",
   "metadata": {
    "scrolled": false
   },
   "outputs": [],
   "source": [
    "# Evaluator (forward chaining)\n",
    "\n",
    "evaluator = Evaluator(NMF_recommender, data_generator)\n",
    "evaluator.evaluate()\n",
    "evaluator.save_results(\"../../results/nmf_ranks.csv\", \"../../results/nmf_times.csv\")"
   ]
  },
  {
   "cell_type": "code",
   "execution_count": 8,
   "id": "e5a6af53",
   "metadata": {},
   "outputs": [
    {
     "data": {
      "text/html": [
       "<div>\n",
       "<style scoped>\n",
       "    .dataframe tbody tr th:only-of-type {\n",
       "        vertical-align: middle;\n",
       "    }\n",
       "\n",
       "    .dataframe tbody tr th {\n",
       "        vertical-align: top;\n",
       "    }\n",
       "\n",
       "    .dataframe thead th {\n",
       "        text-align: right;\n",
       "    }\n",
       "</style>\n",
       "<table border=\"1\" class=\"dataframe\">\n",
       "  <thead>\n",
       "    <tr style=\"text-align: right;\">\n",
       "      <th></th>\n",
       "      <th>cases</th>\n",
       "      <th>5</th>\n",
       "      <th>10</th>\n",
       "      <th>25</th>\n",
       "      <th>50</th>\n",
       "      <th>500</th>\n",
       "    </tr>\n",
       "  </thead>\n",
       "  <tbody>\n",
       "    <tr>\n",
       "      <th>2008</th>\n",
       "      <td>4556</td>\n",
       "      <td>0.018437</td>\n",
       "      <td>0.033582</td>\n",
       "      <td>0.054214</td>\n",
       "      <td>0.090430</td>\n",
       "      <td>0.262072</td>\n",
       "    </tr>\n",
       "    <tr>\n",
       "      <th>2009</th>\n",
       "      <td>4687</td>\n",
       "      <td>0.024749</td>\n",
       "      <td>0.040751</td>\n",
       "      <td>0.077662</td>\n",
       "      <td>0.111585</td>\n",
       "      <td>0.307019</td>\n",
       "    </tr>\n",
       "    <tr>\n",
       "      <th>2010</th>\n",
       "      <td>6133</td>\n",
       "      <td>0.023969</td>\n",
       "      <td>0.052503</td>\n",
       "      <td>0.084298</td>\n",
       "      <td>0.117235</td>\n",
       "      <td>0.300669</td>\n",
       "    </tr>\n",
       "  </tbody>\n",
       "</table>\n",
       "</div>"
      ],
      "text/plain": [
       "      cases         5        10        25        50       500\n",
       "2008   4556  0.018437  0.033582  0.054214  0.090430  0.262072\n",
       "2009   4687  0.024749  0.040751  0.077662  0.111585  0.307019\n",
       "2010   6133  0.023969  0.052503  0.084298  0.117235  0.300669"
      ]
     },
     "execution_count": 8,
     "metadata": {},
     "output_type": "execute_result"
    }
   ],
   "source": [
    "# Hit Rate\n",
    "\n",
    "evaluator.get_hit_rates()"
   ]
  },
  {
   "cell_type": "code",
   "execution_count": 9,
   "id": "72f99af0",
   "metadata": {},
   "outputs": [
    {
     "data": {
      "text/html": [
       "<div>\n",
       "<style scoped>\n",
       "    .dataframe tbody tr th:only-of-type {\n",
       "        vertical-align: middle;\n",
       "    }\n",
       "\n",
       "    .dataframe tbody tr th {\n",
       "        vertical-align: top;\n",
       "    }\n",
       "\n",
       "    .dataframe thead th {\n",
       "        text-align: right;\n",
       "    }\n",
       "</style>\n",
       "<table border=\"1\" class=\"dataframe\">\n",
       "  <thead>\n",
       "    <tr style=\"text-align: right;\">\n",
       "      <th></th>\n",
       "      <th>cases</th>\n",
       "      <th>mrr</th>\n",
       "    </tr>\n",
       "  </thead>\n",
       "  <tbody>\n",
       "    <tr>\n",
       "      <th>2008</th>\n",
       "      <td>2608</td>\n",
       "      <td>0.025840</td>\n",
       "    </tr>\n",
       "    <tr>\n",
       "      <th>2009</th>\n",
       "      <td>3086</td>\n",
       "      <td>0.028101</td>\n",
       "    </tr>\n",
       "    <tr>\n",
       "      <th>2010</th>\n",
       "      <td>4306</td>\n",
       "      <td>0.028802</td>\n",
       "    </tr>\n",
       "  </tbody>\n",
       "</table>\n",
       "</div>"
      ],
      "text/plain": [
       "      cases       mrr\n",
       "2008   2608  0.025840\n",
       "2009   3086  0.028101\n",
       "2010   4306  0.028802"
      ]
     },
     "execution_count": 9,
     "metadata": {},
     "output_type": "execute_result"
    }
   ],
   "source": [
    "# Mean Reciprocal Rank\n",
    "\n",
    "evaluator.get_mrr()"
   ]
  },
  {
   "cell_type": "code",
   "execution_count": 10,
   "id": "02ed826d",
   "metadata": {},
   "outputs": [
    {
     "data": {
      "text/html": [
       "<div>\n",
       "<style scoped>\n",
       "    .dataframe tbody tr th:only-of-type {\n",
       "        vertical-align: middle;\n",
       "    }\n",
       "\n",
       "    .dataframe tbody tr th {\n",
       "        vertical-align: top;\n",
       "    }\n",
       "\n",
       "    .dataframe thead th {\n",
       "        text-align: right;\n",
       "    }\n",
       "</style>\n",
       "<table border=\"1\" class=\"dataframe\">\n",
       "  <thead>\n",
       "    <tr style=\"text-align: right;\">\n",
       "      <th></th>\n",
       "      <th>count</th>\n",
       "      <th>mean</th>\n",
       "      <th>std</th>\n",
       "      <th>min</th>\n",
       "      <th>25%</th>\n",
       "      <th>50%</th>\n",
       "      <th>75%</th>\n",
       "      <th>max</th>\n",
       "    </tr>\n",
       "    <tr>\n",
       "      <th>task</th>\n",
       "      <th></th>\n",
       "      <th></th>\n",
       "      <th></th>\n",
       "      <th></th>\n",
       "      <th></th>\n",
       "      <th></th>\n",
       "      <th></th>\n",
       "      <th></th>\n",
       "    </tr>\n",
       "  </thead>\n",
       "  <tbody>\n",
       "    <tr>\n",
       "      <th>model_fit</th>\n",
       "      <td>3.0</td>\n",
       "      <td>25.838830</td>\n",
       "      <td>18.623034</td>\n",
       "      <td>8.792961</td>\n",
       "      <td>15.900741</td>\n",
       "      <td>23.008522</td>\n",
       "      <td>34.361765</td>\n",
       "      <td>45.715008</td>\n",
       "    </tr>\n",
       "    <tr>\n",
       "      <th>model_init</th>\n",
       "      <td>3.0</td>\n",
       "      <td>0.000016</td>\n",
       "      <td>0.000012</td>\n",
       "      <td>0.000003</td>\n",
       "      <td>0.000013</td>\n",
       "      <td>0.000023</td>\n",
       "      <td>0.000023</td>\n",
       "      <td>0.000023</td>\n",
       "    </tr>\n",
       "    <tr>\n",
       "      <th>recommend_user</th>\n",
       "      <td>2336.0</td>\n",
       "      <td>0.000671</td>\n",
       "      <td>0.001441</td>\n",
       "      <td>0.000153</td>\n",
       "      <td>0.000228</td>\n",
       "      <td>0.000327</td>\n",
       "      <td>0.000719</td>\n",
       "      <td>0.031549</td>\n",
       "    </tr>\n",
       "  </tbody>\n",
       "</table>\n",
       "</div>"
      ],
      "text/plain": [
       "                 count       mean        std       min        25%        50%  \\\n",
       "task                                                                           \n",
       "model_fit          3.0  25.838830  18.623034  8.792961  15.900741  23.008522   \n",
       "model_init         3.0   0.000016   0.000012  0.000003   0.000013   0.000023   \n",
       "recommend_user  2336.0   0.000671   0.001441  0.000153   0.000228   0.000327   \n",
       "\n",
       "                      75%        max  \n",
       "task                                  \n",
       "model_fit       34.361765  45.715008  \n",
       "model_init       0.000023   0.000023  \n",
       "recommend_user   0.000719   0.031549  "
      ]
     },
     "execution_count": 10,
     "metadata": {},
     "output_type": "execute_result"
    }
   ],
   "source": [
    "# Times\n",
    "\n",
    "evaluator.get_times()"
   ]
  },
  {
   "cell_type": "code",
   "execution_count": 11,
   "id": "86cac09a",
   "metadata": {},
   "outputs": [
    {
     "data": {
      "text/html": [
       "<div>\n",
       "<style scoped>\n",
       "    .dataframe tbody tr th:only-of-type {\n",
       "        vertical-align: middle;\n",
       "    }\n",
       "\n",
       "    .dataframe tbody tr th {\n",
       "        vertical-align: top;\n",
       "    }\n",
       "\n",
       "    .dataframe thead th {\n",
       "        text-align: right;\n",
       "    }\n",
       "</style>\n",
       "<table border=\"1\" class=\"dataframe\">\n",
       "  <thead>\n",
       "    <tr style=\"text-align: right;\">\n",
       "      <th></th>\n",
       "      <th>tag</th>\n",
       "      <th>time</th>\n",
       "    </tr>\n",
       "    <tr>\n",
       "      <th>task</th>\n",
       "      <th></th>\n",
       "      <th></th>\n",
       "    </tr>\n",
       "  </thead>\n",
       "  <tbody>\n",
       "    <tr>\n",
       "      <th>model_fit</th>\n",
       "      <td>model_fit_2008</td>\n",
       "      <td>8.792961</td>\n",
       "    </tr>\n",
       "    <tr>\n",
       "      <th>model_fit</th>\n",
       "      <td>model_fit_2009</td>\n",
       "      <td>23.008522</td>\n",
       "    </tr>\n",
       "    <tr>\n",
       "      <th>model_fit</th>\n",
       "      <td>model_fit_2010</td>\n",
       "      <td>45.715008</td>\n",
       "    </tr>\n",
       "  </tbody>\n",
       "</table>\n",
       "</div>"
      ],
      "text/plain": [
       "                      tag       time\n",
       "task                                \n",
       "model_fit  model_fit_2008   8.792961\n",
       "model_fit  model_fit_2009  23.008522\n",
       "model_fit  model_fit_2010  45.715008"
      ]
     },
     "execution_count": 11,
     "metadata": {},
     "output_type": "execute_result"
    }
   ],
   "source": [
    "evaluator.get_fit_per_year_times()"
   ]
  },
  {
   "cell_type": "code",
   "execution_count": 12,
   "id": "6ac19603",
   "metadata": {},
   "outputs": [
    {
     "data": {
      "text/html": [
       "<div>\n",
       "<style scoped>\n",
       "    .dataframe tbody tr th:only-of-type {\n",
       "        vertical-align: middle;\n",
       "    }\n",
       "\n",
       "    .dataframe tbody tr th {\n",
       "        vertical-align: top;\n",
       "    }\n",
       "\n",
       "    .dataframe thead th {\n",
       "        text-align: right;\n",
       "    }\n",
       "</style>\n",
       "<table border=\"1\" class=\"dataframe\">\n",
       "  <thead>\n",
       "    <tr style=\"text-align: right;\">\n",
       "      <th></th>\n",
       "      <th>cases</th>\n",
       "      <th>5</th>\n",
       "      <th>10</th>\n",
       "      <th>25</th>\n",
       "      <th>50</th>\n",
       "      <th>500</th>\n",
       "    </tr>\n",
       "  </thead>\n",
       "  <tbody>\n",
       "    <tr>\n",
       "      <th>2008</th>\n",
       "      <td>4556</td>\n",
       "      <td>0.018876</td>\n",
       "      <td>0.034021</td>\n",
       "      <td>0.054653</td>\n",
       "      <td>0.091308</td>\n",
       "      <td>0.265584</td>\n",
       "    </tr>\n",
       "    <tr>\n",
       "      <th>2009</th>\n",
       "      <td>4687</td>\n",
       "      <td>0.024749</td>\n",
       "      <td>0.040538</td>\n",
       "      <td>0.077448</td>\n",
       "      <td>0.111372</td>\n",
       "      <td>0.306593</td>\n",
       "    </tr>\n",
       "    <tr>\n",
       "      <th>2010</th>\n",
       "      <td>6133</td>\n",
       "      <td>0.023969</td>\n",
       "      <td>0.052503</td>\n",
       "      <td>0.084461</td>\n",
       "      <td>0.117398</td>\n",
       "      <td>0.300179</td>\n",
       "    </tr>\n",
       "  </tbody>\n",
       "</table>\n",
       "</div>"
      ],
      "text/plain": [
       "      cases         5        10        25        50       500\n",
       "2008   4556  0.018876  0.034021  0.054653  0.091308  0.265584\n",
       "2009   4687  0.024749  0.040538  0.077448  0.111372  0.306593\n",
       "2010   6133  0.023969  0.052503  0.084461  0.117398  0.300179"
      ]
     },
     "execution_count": 12,
     "metadata": {},
     "output_type": "execute_result"
    }
   ],
   "source": [
    "# Hit Rate\n",
    "# rank: 20, iter: 150\n",
    "evaluator = Evaluator(partial(NMF_recommender, rank=20, iter=150), data_generator)\n",
    "evaluator.evaluate()\n",
    "\n",
    "evaluator.get_hit_rates()"
   ]
  }
 ],
 "metadata": {
  "kernelspec": {
   "display_name": "Python 3",
   "language": "python",
   "name": "python3"
  },
  "language_info": {
   "codemirror_mode": {
    "name": "ipython",
    "version": 3
   },
   "file_extension": ".py",
   "mimetype": "text/x-python",
   "name": "python",
   "nbconvert_exporter": "python",
   "pygments_lexer": "ipython3",
   "version": "3.8.10"
  }
 },
 "nbformat": 4,
 "nbformat_minor": 5
}