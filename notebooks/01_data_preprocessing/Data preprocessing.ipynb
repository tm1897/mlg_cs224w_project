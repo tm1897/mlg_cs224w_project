{
 "cells": [
  {
   "cell_type": "code",
   "execution_count": 1,
   "id": "789e295e",
   "metadata": {},
   "outputs": [],
   "source": [
    "import pandas as pd\n",
    "import networkx as nx"
   ]
  },
  {
   "cell_type": "code",
   "execution_count": 2,
   "id": "3f25494d",
   "metadata": {},
   "outputs": [],
   "source": [
    "data_dir = \"../../data/\"\n",
    "\n",
    "df_user_artists = pd.read_table(f\"{data_dir}hetrec2011-lastfm-2k/user_artists.dat\")\n",
    "df_tagged = pd.read_table(f\"{data_dir}hetrec2011-lastfm-2k/user_taggedartists-timestamps.dat\")"
   ]
  },
  {
   "cell_type": "code",
   "execution_count": 3,
   "id": "280a22bf",
   "metadata": {},
   "outputs": [
    {
     "data": {
      "text/html": [
       "<div>\n",
       "<style scoped>\n",
       "    .dataframe tbody tr th:only-of-type {\n",
       "        vertical-align: middle;\n",
       "    }\n",
       "\n",
       "    .dataframe tbody tr th {\n",
       "        vertical-align: top;\n",
       "    }\n",
       "\n",
       "    .dataframe thead th {\n",
       "        text-align: right;\n",
       "    }\n",
       "</style>\n",
       "<table border=\"1\" class=\"dataframe\">\n",
       "  <thead>\n",
       "    <tr style=\"text-align: right;\">\n",
       "      <th></th>\n",
       "      <th>userID</th>\n",
       "      <th>artistID</th>\n",
       "      <th>weight</th>\n",
       "    </tr>\n",
       "  </thead>\n",
       "  <tbody>\n",
       "    <tr>\n",
       "      <th>0</th>\n",
       "      <td>2</td>\n",
       "      <td>51</td>\n",
       "      <td>13883</td>\n",
       "    </tr>\n",
       "    <tr>\n",
       "      <th>1</th>\n",
       "      <td>2</td>\n",
       "      <td>52</td>\n",
       "      <td>11690</td>\n",
       "    </tr>\n",
       "    <tr>\n",
       "      <th>2</th>\n",
       "      <td>2</td>\n",
       "      <td>53</td>\n",
       "      <td>11351</td>\n",
       "    </tr>\n",
       "    <tr>\n",
       "      <th>3</th>\n",
       "      <td>2</td>\n",
       "      <td>54</td>\n",
       "      <td>10300</td>\n",
       "    </tr>\n",
       "    <tr>\n",
       "      <th>4</th>\n",
       "      <td>2</td>\n",
       "      <td>55</td>\n",
       "      <td>8983</td>\n",
       "    </tr>\n",
       "  </tbody>\n",
       "</table>\n",
       "</div>"
      ],
      "text/plain": [
       "   userID  artistID  weight\n",
       "0       2        51   13883\n",
       "1       2        52   11690\n",
       "2       2        53   11351\n",
       "3       2        54   10300\n",
       "4       2        55    8983"
      ]
     },
     "execution_count": 3,
     "metadata": {},
     "output_type": "execute_result"
    }
   ],
   "source": [
    "df_user_artists.head()"
   ]
  },
  {
   "cell_type": "code",
   "execution_count": 4,
   "id": "f4fbf46f",
   "metadata": {},
   "outputs": [
    {
     "data": {
      "text/html": [
       "<div>\n",
       "<style scoped>\n",
       "    .dataframe tbody tr th:only-of-type {\n",
       "        vertical-align: middle;\n",
       "    }\n",
       "\n",
       "    .dataframe tbody tr th {\n",
       "        vertical-align: top;\n",
       "    }\n",
       "\n",
       "    .dataframe thead th {\n",
       "        text-align: right;\n",
       "    }\n",
       "</style>\n",
       "<table border=\"1\" class=\"dataframe\">\n",
       "  <thead>\n",
       "    <tr style=\"text-align: right;\">\n",
       "      <th></th>\n",
       "      <th>userID</th>\n",
       "      <th>artistID</th>\n",
       "      <th>tagID</th>\n",
       "      <th>timestamp</th>\n",
       "    </tr>\n",
       "  </thead>\n",
       "  <tbody>\n",
       "    <tr>\n",
       "      <th>0</th>\n",
       "      <td>2</td>\n",
       "      <td>52</td>\n",
       "      <td>13</td>\n",
       "      <td>1238536800000</td>\n",
       "    </tr>\n",
       "    <tr>\n",
       "      <th>1</th>\n",
       "      <td>2</td>\n",
       "      <td>52</td>\n",
       "      <td>15</td>\n",
       "      <td>1238536800000</td>\n",
       "    </tr>\n",
       "    <tr>\n",
       "      <th>2</th>\n",
       "      <td>2</td>\n",
       "      <td>52</td>\n",
       "      <td>18</td>\n",
       "      <td>1238536800000</td>\n",
       "    </tr>\n",
       "    <tr>\n",
       "      <th>3</th>\n",
       "      <td>2</td>\n",
       "      <td>52</td>\n",
       "      <td>21</td>\n",
       "      <td>1238536800000</td>\n",
       "    </tr>\n",
       "    <tr>\n",
       "      <th>4</th>\n",
       "      <td>2</td>\n",
       "      <td>52</td>\n",
       "      <td>41</td>\n",
       "      <td>1238536800000</td>\n",
       "    </tr>\n",
       "  </tbody>\n",
       "</table>\n",
       "</div>"
      ],
      "text/plain": [
       "   userID  artistID  tagID      timestamp\n",
       "0       2        52     13  1238536800000\n",
       "1       2        52     15  1238536800000\n",
       "2       2        52     18  1238536800000\n",
       "3       2        52     21  1238536800000\n",
       "4       2        52     41  1238536800000"
      ]
     },
     "execution_count": 4,
     "metadata": {},
     "output_type": "execute_result"
    }
   ],
   "source": [
    "df_tagged.head()"
   ]
  },
  {
   "cell_type": "code",
   "execution_count": 5,
   "id": "e20dbbd8",
   "metadata": {},
   "outputs": [],
   "source": [
    "df = pd.merge(\n",
    "    df_user_artists, \n",
    "    df_tagged, \n",
    "    on=[\"userID\", \"artistID\"]\n",
    ").drop_duplicates(subset=[\"userID\", \"artistID\"])"
   ]
  },
  {
   "cell_type": "code",
   "execution_count": 6,
   "id": "1c4a5000",
   "metadata": {},
   "outputs": [
    {
     "data": {
      "text/html": [
       "<div>\n",
       "<style scoped>\n",
       "    .dataframe tbody tr th:only-of-type {\n",
       "        vertical-align: middle;\n",
       "    }\n",
       "\n",
       "    .dataframe tbody tr th {\n",
       "        vertical-align: top;\n",
       "    }\n",
       "\n",
       "    .dataframe thead th {\n",
       "        text-align: right;\n",
       "    }\n",
       "</style>\n",
       "<table border=\"1\" class=\"dataframe\">\n",
       "  <thead>\n",
       "    <tr style=\"text-align: right;\">\n",
       "      <th></th>\n",
       "      <th>userID</th>\n",
       "      <th>artistID</th>\n",
       "      <th>weight</th>\n",
       "      <th>tagID</th>\n",
       "      <th>timestamp</th>\n",
       "    </tr>\n",
       "  </thead>\n",
       "  <tbody>\n",
       "    <tr>\n",
       "      <th>0</th>\n",
       "      <td>2</td>\n",
       "      <td>52</td>\n",
       "      <td>11690</td>\n",
       "      <td>13</td>\n",
       "      <td>1238536800000</td>\n",
       "    </tr>\n",
       "    <tr>\n",
       "      <th>5</th>\n",
       "      <td>2</td>\n",
       "      <td>63</td>\n",
       "      <td>3735</td>\n",
       "      <td>13</td>\n",
       "      <td>1238536800000</td>\n",
       "    </tr>\n",
       "    <tr>\n",
       "      <th>9</th>\n",
       "      <td>2</td>\n",
       "      <td>73</td>\n",
       "      <td>2584</td>\n",
       "      <td>13</td>\n",
       "      <td>1238536800000</td>\n",
       "    </tr>\n",
       "    <tr>\n",
       "      <th>17</th>\n",
       "      <td>2</td>\n",
       "      <td>94</td>\n",
       "      <td>1373</td>\n",
       "      <td>13</td>\n",
       "      <td>1238536800000</td>\n",
       "    </tr>\n",
       "    <tr>\n",
       "      <th>25</th>\n",
       "      <td>2</td>\n",
       "      <td>96</td>\n",
       "      <td>1342</td>\n",
       "      <td>19</td>\n",
       "      <td>1238536800000</td>\n",
       "    </tr>\n",
       "  </tbody>\n",
       "</table>\n",
       "</div>"
      ],
      "text/plain": [
       "    userID  artistID  weight  tagID      timestamp\n",
       "0        2        52   11690     13  1238536800000\n",
       "5        2        63    3735     13  1238536800000\n",
       "9        2        73    2584     13  1238536800000\n",
       "17       2        94    1373     13  1238536800000\n",
       "25       2        96    1342     19  1238536800000"
      ]
     },
     "execution_count": 6,
     "metadata": {},
     "output_type": "execute_result"
    }
   ],
   "source": [
    "df.head()"
   ]
  },
  {
   "cell_type": "code",
   "execution_count": 7,
   "id": "d5db157f",
   "metadata": {},
   "outputs": [],
   "source": [
    "G = nx.Graph()\n",
    "\n",
    "for user_id in df[\"userID\"].unique():\n",
    "    G.add_node(f\"U_{user_id}\", bipartite=0)\n",
    "\n",
    "for artist_id in df[\"artistID\"].unique():\n",
    "    G.add_node(f\"A_{artist_id}\", bipartite=1)\n",
    "\n",
    "for i, row in df.iterrows():\n",
    "    G.add_edge(\n",
    "        \"U_\"+str(row[\"userID\"]), \n",
    "        \"A_\"+str(row[\"artistID\"]), \n",
    "        weight=row[\"weight\"], \n",
    "        timestamp=row[\"timestamp\"]\n",
    "    )"
   ]
  },
  {
   "cell_type": "code",
   "execution_count": 8,
   "id": "7b119f69",
   "metadata": {},
   "outputs": [],
   "source": [
    "nx.write_gpickle(G, f\"{data_dir}network.gpickle\")"
   ]
  }
 ],
 "metadata": {
  "kernelspec": {
   "display_name": "Python [conda env:mlg] *",
   "language": "python",
   "name": "conda-env-mlg-py"
  },
  "language_info": {
   "codemirror_mode": {
    "name": "ipython",
    "version": 3
   },
   "file_extension": ".py",
   "mimetype": "text/x-python",
   "name": "python",
   "nbconvert_exporter": "python",
   "pygments_lexer": "ipython3",
   "version": "3.7.11"
  }
 },
 "nbformat": 4,
 "nbformat_minor": 5
}