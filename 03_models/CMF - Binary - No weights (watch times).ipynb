{
 "cells": [
  {
   "cell_type": "markdown",
   "id": "bf2163da",
   "metadata": {},
   "source": [
    "# NMF - No watch times\n",
    "No watch times - only adjacency **user - (tag) - author** matrix."
   ]
  },
  {
   "cell_type": "markdown",
   "id": "602ee0af",
   "metadata": {},
   "source": [
    "## Init"
   ]
  },
  {
   "cell_type": "code",
   "execution_count": 1,
   "id": "b1006185",
   "metadata": {},
   "outputs": [],
   "source": [
    "import numpy as np\n",
    "import pandas as pd\n",
    "from scipy import sparse\n",
    "from functools import partial\n",
    "\n",
    "import plotly.express as px\n",
    "\n",
    "\n",
    "# import implicit # Matrix Factorization\n",
    "\n",
    "from sklearn.decomposition import NMF\n",
    "from sklearn.model_selection import KFold\n",
    "from cmfrec import CMF_implicit"
   ]
  },
  {
   "cell_type": "code",
   "execution_count": 2,
   "id": "c67d8296",
   "metadata": {},
   "outputs": [],
   "source": [
    "import sys\n",
    "sys.path.append(\"../\")\n",
    "from src.data_preprocessing import TrainTestGenerator\n",
    "from src.evaluator import Evaluator"
   ]
  },
  {
   "cell_type": "code",
   "execution_count": 3,
   "id": "c90af557",
   "metadata": {},
   "outputs": [],
   "source": [
    "show_ploty = False"
   ]
  },
  {
   "cell_type": "code",
   "execution_count": 4,
   "id": "f92258db",
   "metadata": {},
   "outputs": [],
   "source": [
    "data_dir = \"../data/\"\n",
    "data_generator = TrainTestGenerator(data_dir)"
   ]
  },
  {
   "cell_type": "markdown",
   "id": "e82f6746",
   "metadata": {},
   "source": [
    "## Model"
   ]
  },
  {
   "cell_type": "code",
   "execution_count": 5,
   "id": "85e57b86",
   "metadata": {},
   "outputs": [],
   "source": [
    "# Model wrapper\n",
    "\n",
    "class CMF_recommender:\n",
    "    def __init__(self, k=50):\n",
    "        self.model = CMF_implicit(\n",
    "            # verbose=False,\n",
    "            # method=\"als\",\n",
    "            k=k,\n",
    "            nonneg=True,\n",
    "            random_state=1,\n",
    "            # lambda_=1e+1\n",
    "        )\n",
    "\n",
    "    def fit(self, data: pd.DataFrame):\n",
    "        data = data.copy()\n",
    "        data[\"weight\"] = 1  # Binary adjacency matrix (no weights)\n",
    "        data = data.rename(columns={\n",
    "            \"userID\": \"UserId\",\n",
    "            \"artistID\": \"ItemId\",\n",
    "            \"weight\": \"Rating\"\n",
    "        })\n",
    "        self.model.fit(data)\n",
    "\n",
    "    def recommend(self, user_id, n):\n",
    "        recommendations = self.model.topN(user_id, n=n)\n",
    "        return recommendations"
   ]
  },
  {
   "cell_type": "markdown",
   "id": "81e964a0",
   "metadata": {},
   "source": [
    "## Evaluation"
   ]
  },
  {
   "cell_type": "code",
   "execution_count": 6,
   "id": "f2aa7e99",
   "metadata": {},
   "outputs": [],
   "source": [
    "# Evaluator (forward chaining)\n",
    "\n",
    "evaluator = Evaluator(CMF_recommender, data_generator)\n",
    "evaluator.evaluate()\n",
    "\n",
    "# evaluator.save_results(\"../results/nmf_binary.csv\")"
   ]
  },
  {
   "cell_type": "code",
   "execution_count": 7,
   "id": "10d52fd8",
   "metadata": {},
   "outputs": [
    {
     "data": {
      "text/html": [
       "<div>\n",
       "<style scoped>\n",
       "    .dataframe tbody tr th:only-of-type {\n",
       "        vertical-align: middle;\n",
       "    }\n",
       "\n",
       "    .dataframe tbody tr th {\n",
       "        vertical-align: top;\n",
       "    }\n",
       "\n",
       "    .dataframe thead th {\n",
       "        text-align: right;\n",
       "    }\n",
       "</style>\n",
       "<table border=\"1\" class=\"dataframe\">\n",
       "  <thead>\n",
       "    <tr style=\"text-align: right;\">\n",
       "      <th></th>\n",
       "      <th>cases</th>\n",
       "      <th>5</th>\n",
       "      <th>10</th>\n",
       "      <th>25</th>\n",
       "      <th>50</th>\n",
       "      <th>500</th>\n",
       "    </tr>\n",
       "  </thead>\n",
       "  <tbody>\n",
       "    <tr>\n",
       "      <th>2008</th>\n",
       "      <td>4556</td>\n",
       "      <td>0.017120</td>\n",
       "      <td>0.025461</td>\n",
       "      <td>0.039069</td>\n",
       "      <td>0.066945</td>\n",
       "      <td>0.295654</td>\n",
       "    </tr>\n",
       "    <tr>\n",
       "      <th>2009</th>\n",
       "      <td>4687</td>\n",
       "      <td>0.016215</td>\n",
       "      <td>0.025389</td>\n",
       "      <td>0.043311</td>\n",
       "      <td>0.062940</td>\n",
       "      <td>0.240239</td>\n",
       "    </tr>\n",
       "    <tr>\n",
       "      <th>2010</th>\n",
       "      <td>6133</td>\n",
       "      <td>0.019240</td>\n",
       "      <td>0.030980</td>\n",
       "      <td>0.054623</td>\n",
       "      <td>0.084950</td>\n",
       "      <td>0.262188</td>\n",
       "    </tr>\n",
       "    <tr>\n",
       "      <th>2011</th>\n",
       "      <td>1129</td>\n",
       "      <td>0.047830</td>\n",
       "      <td>0.078831</td>\n",
       "      <td>0.132861</td>\n",
       "      <td>0.186891</td>\n",
       "      <td>0.434898</td>\n",
       "    </tr>\n",
       "  </tbody>\n",
       "</table>\n",
       "</div>"
      ],
      "text/plain": [
       "      cases         5        10        25        50       500\n",
       "2008   4556  0.017120  0.025461  0.039069  0.066945  0.295654\n",
       "2009   4687  0.016215  0.025389  0.043311  0.062940  0.240239\n",
       "2010   6133  0.019240  0.030980  0.054623  0.084950  0.262188\n",
       "2011   1129  0.047830  0.078831  0.132861  0.186891  0.434898"
      ]
     },
     "execution_count": 7,
     "metadata": {},
     "output_type": "execute_result"
    }
   ],
   "source": [
    "# Hit Rate\n",
    "\n",
    "evaluator.get_hit_rates()"
   ]
  },
  {
   "cell_type": "code",
   "execution_count": 8,
   "id": "65eb0574",
   "metadata": {},
   "outputs": [
    {
     "data": {
      "text/html": [
       "<div>\n",
       "<style scoped>\n",
       "    .dataframe tbody tr th:only-of-type {\n",
       "        vertical-align: middle;\n",
       "    }\n",
       "\n",
       "    .dataframe tbody tr th {\n",
       "        vertical-align: top;\n",
       "    }\n",
       "\n",
       "    .dataframe thead th {\n",
       "        text-align: right;\n",
       "    }\n",
       "</style>\n",
       "<table border=\"1\" class=\"dataframe\">\n",
       "  <thead>\n",
       "    <tr style=\"text-align: right;\">\n",
       "      <th></th>\n",
       "      <th>cases</th>\n",
       "      <th>5</th>\n",
       "      <th>10</th>\n",
       "      <th>25</th>\n",
       "      <th>50</th>\n",
       "      <th>500</th>\n",
       "    </tr>\n",
       "  </thead>\n",
       "  <tbody>\n",
       "    <tr>\n",
       "      <th>2008</th>\n",
       "      <td>4556</td>\n",
       "      <td>0.017120</td>\n",
       "      <td>0.025461</td>\n",
       "      <td>0.039069</td>\n",
       "      <td>0.066945</td>\n",
       "      <td>0.295654</td>\n",
       "    </tr>\n",
       "    <tr>\n",
       "      <th>2009</th>\n",
       "      <td>4687</td>\n",
       "      <td>0.016215</td>\n",
       "      <td>0.025389</td>\n",
       "      <td>0.043311</td>\n",
       "      <td>0.062940</td>\n",
       "      <td>0.240239</td>\n",
       "    </tr>\n",
       "    <tr>\n",
       "      <th>2010</th>\n",
       "      <td>6133</td>\n",
       "      <td>0.019240</td>\n",
       "      <td>0.030980</td>\n",
       "      <td>0.054623</td>\n",
       "      <td>0.084950</td>\n",
       "      <td>0.262188</td>\n",
       "    </tr>\n",
       "    <tr>\n",
       "      <th>2011</th>\n",
       "      <td>1129</td>\n",
       "      <td>0.047830</td>\n",
       "      <td>0.078831</td>\n",
       "      <td>0.132861</td>\n",
       "      <td>0.186891</td>\n",
       "      <td>0.434898</td>\n",
       "    </tr>\n",
       "  </tbody>\n",
       "</table>\n",
       "</div>"
      ],
      "text/plain": [
       "      cases         5        10        25        50       500\n",
       "2008   4556  0.017120  0.025461  0.039069  0.066945  0.295654\n",
       "2009   4687  0.016215  0.025389  0.043311  0.062940  0.240239\n",
       "2010   6133  0.019240  0.030980  0.054623  0.084950  0.262188\n",
       "2011   1129  0.047830  0.078831  0.132861  0.186891  0.434898"
      ]
     },
     "execution_count": 8,
     "metadata": {},
     "output_type": "execute_result"
    }
   ],
   "source": [
    "# Hit Rate\n",
    "\n",
    "evaluator.get_hit_rates()"
   ]
  },
  {
   "cell_type": "code",
   "execution_count": 9,
   "id": "8ce3b66c",
   "metadata": {},
   "outputs": [
    {
     "data": {
      "text/html": [
       "<div>\n",
       "<style scoped>\n",
       "    .dataframe tbody tr th:only-of-type {\n",
       "        vertical-align: middle;\n",
       "    }\n",
       "\n",
       "    .dataframe tbody tr th {\n",
       "        vertical-align: top;\n",
       "    }\n",
       "\n",
       "    .dataframe thead th {\n",
       "        text-align: right;\n",
       "    }\n",
       "</style>\n",
       "<table border=\"1\" class=\"dataframe\">\n",
       "  <thead>\n",
       "    <tr style=\"text-align: right;\">\n",
       "      <th></th>\n",
       "      <th>cases</th>\n",
       "      <th>mrr</th>\n",
       "    </tr>\n",
       "  </thead>\n",
       "  <tbody>\n",
       "    <tr>\n",
       "      <th>2008</th>\n",
       "      <td>2608</td>\n",
       "      <td>0.023833</td>\n",
       "    </tr>\n",
       "    <tr>\n",
       "      <th>2009</th>\n",
       "      <td>3086</td>\n",
       "      <td>0.020357</td>\n",
       "    </tr>\n",
       "    <tr>\n",
       "      <th>2010</th>\n",
       "      <td>4306</td>\n",
       "      <td>0.021187</td>\n",
       "    </tr>\n",
       "    <tr>\n",
       "      <th>2011</th>\n",
       "      <td>878</td>\n",
       "      <td>0.046704</td>\n",
       "    </tr>\n",
       "  </tbody>\n",
       "</table>\n",
       "</div>"
      ],
      "text/plain": [
       "      cases       mrr\n",
       "2008   2608  0.023833\n",
       "2009   3086  0.020357\n",
       "2010   4306  0.021187\n",
       "2011    878  0.046704"
      ]
     },
     "execution_count": 9,
     "metadata": {},
     "output_type": "execute_result"
    }
   ],
   "source": [
    "# Mean Reciprocal Rank\n",
    "\n",
    "evaluator.get_mrr()"
   ]
  }
 ],
 "metadata": {
  "kernelspec": {
   "display_name": "Python [conda env:mlg] *",
   "language": "python",
   "name": "conda-env-mlg-py"
  },
  "language_info": {
   "codemirror_mode": {
    "name": "ipython",
    "version": 3
   },
   "file_extension": ".py",
   "mimetype": "text/x-python",
   "name": "python",
   "nbconvert_exporter": "python",
   "pygments_lexer": "ipython3",
   "version": "3.7.11"
  }
 },
 "nbformat": 4,
 "nbformat_minor": 5
}
