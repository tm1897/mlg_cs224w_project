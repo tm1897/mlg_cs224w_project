{
 "cells": [
  {
   "cell_type": "markdown",
   "id": "bf2163da",
   "metadata": {},
   "source": [
    "# NMF - No watch times\n",
    "No watch times - only adjacency **user - (tag) - author** matrix."
   ]
  },
  {
   "cell_type": "markdown",
   "id": "602ee0af",
   "metadata": {},
   "source": [
    "## Init"
   ]
  },
  {
   "cell_type": "code",
   "execution_count": 1,
   "id": "b1006185",
   "metadata": {},
   "outputs": [],
   "source": [
    "import numpy as np\n",
    "import pandas as pd\n",
    "from scipy import sparse\n",
    "from functools import partial\n",
    "\n",
    "import plotly.express as px\n",
    "\n",
    "\n",
    "# import implicit # Matrix Factorization\n",
    "\n",
    "from sklearn.decomposition import NMF\n",
    "from sklearn.model_selection import KFold\n",
    "from cmfrec import CMF_implicit"
   ]
  },
  {
   "cell_type": "code",
   "execution_count": 2,
   "id": "c67d8296",
   "metadata": {},
   "outputs": [],
   "source": [
    "import sys\n",
    "sys.path.append(\"../\")\n",
    "from src.data_preprocessing import TrainTestGenerator\n",
    "from src.evaluator import Evaluator"
   ]
  },
  {
   "cell_type": "code",
   "execution_count": 3,
   "id": "c90af557",
   "metadata": {},
   "outputs": [],
   "source": [
    "show_ploty = False"
   ]
  },
  {
   "cell_type": "code",
   "execution_count": 4,
   "id": "f92258db",
   "metadata": {},
   "outputs": [],
   "source": [
    "data_dir = \"../data/\"\n",
    "data_generator = TrainTestGenerator(data_dir)"
   ]
  },
  {
   "cell_type": "markdown",
   "id": "e82f6746",
   "metadata": {},
   "source": [
    "## Model"
   ]
  },
  {
   "cell_type": "code",
   "execution_count": 5,
   "id": "85e57b86",
   "metadata": {},
   "outputs": [],
   "source": [
    "# Model wrapper\n",
    "\n",
    "class CMF_recommender:\n",
    "    def __init__(self, k=32):\n",
    "        self.model = CMF_implicit(\n",
    "            # verbose=False,\n",
    "            # method=\"als\",\n",
    "            k=k,\n",
    "            nonneg=True,\n",
    "            random_state=1,\n",
    "            niter=100,\n",
    "            # lambda_=1e+1\n",
    "        )\n",
    "\n",
    "    def fit(self, data: pd.DataFrame):\n",
    "        data = data.copy()\n",
    "        data[\"weight\"] = 1  # Binary adjacency matrix (no weights)\n",
    "        data = data.rename(columns={\n",
    "            \"userID\": \"UserId\",\n",
    "            \"artistID\": \"ItemId\",\n",
    "            \"weight\": \"Rating\"\n",
    "        })\n",
    "        self.model.fit(data)\n",
    "\n",
    "    def recommend(self, user_id, n):\n",
    "        recommendations = self.model.topN(user_id, n=n)\n",
    "        return recommendations"
   ]
  },
  {
   "cell_type": "markdown",
   "id": "81e964a0",
   "metadata": {},
   "source": [
    "## Evaluation"
   ]
  },
  {
   "cell_type": "code",
   "execution_count": 6,
   "id": "f2aa7e99",
   "metadata": {},
   "outputs": [],
   "source": [
    "# Evaluator (forward chaining)\n",
    "\n",
    "evaluator = Evaluator(CMF_recommender, data_generator)\n",
    "evaluator.evaluate()\n",
    "\n",
    "evaluator.save_results(\"../results/cmf_binary_ranks.csv\", \"../results/cmf_binary_times.csv\")"
   ]
  },
  {
   "cell_type": "code",
   "execution_count": 7,
   "id": "10d52fd8",
   "metadata": {},
   "outputs": [
    {
     "data": {
      "text/html": [
       "<div>\n",
       "<style scoped>\n",
       "    .dataframe tbody tr th:only-of-type {\n",
       "        vertical-align: middle;\n",
       "    }\n",
       "\n",
       "    .dataframe tbody tr th {\n",
       "        vertical-align: top;\n",
       "    }\n",
       "\n",
       "    .dataframe thead th {\n",
       "        text-align: right;\n",
       "    }\n",
       "</style>\n",
       "<table border=\"1\" class=\"dataframe\">\n",
       "  <thead>\n",
       "    <tr style=\"text-align: right;\">\n",
       "      <th></th>\n",
       "      <th>cases</th>\n",
       "      <th>5</th>\n",
       "      <th>10</th>\n",
       "      <th>25</th>\n",
       "      <th>50</th>\n",
       "      <th>500</th>\n",
       "    </tr>\n",
       "  </thead>\n",
       "  <tbody>\n",
       "    <tr>\n",
       "      <th>2008</th>\n",
       "      <td>4556</td>\n",
       "      <td>0.019974</td>\n",
       "      <td>0.031826</td>\n",
       "      <td>0.052239</td>\n",
       "      <td>0.070457</td>\n",
       "      <td>0.321115</td>\n",
       "    </tr>\n",
       "    <tr>\n",
       "      <th>2009</th>\n",
       "      <td>4687</td>\n",
       "      <td>0.018349</td>\n",
       "      <td>0.028803</td>\n",
       "      <td>0.050779</td>\n",
       "      <td>0.075741</td>\n",
       "      <td>0.255814</td>\n",
       "    </tr>\n",
       "    <tr>\n",
       "      <th>2010</th>\n",
       "      <td>6133</td>\n",
       "      <td>0.021197</td>\n",
       "      <td>0.032774</td>\n",
       "      <td>0.060166</td>\n",
       "      <td>0.104027</td>\n",
       "      <td>0.277841</td>\n",
       "    </tr>\n",
       "    <tr>\n",
       "      <th>2011</th>\n",
       "      <td>1129</td>\n",
       "      <td>0.059345</td>\n",
       "      <td>0.093003</td>\n",
       "      <td>0.154119</td>\n",
       "      <td>0.210806</td>\n",
       "      <td>0.431355</td>\n",
       "    </tr>\n",
       "  </tbody>\n",
       "</table>\n",
       "</div>"
      ],
      "text/plain": [
       "      cases         5        10        25        50       500\n",
       "2008   4556  0.019974  0.031826  0.052239  0.070457  0.321115\n",
       "2009   4687  0.018349  0.028803  0.050779  0.075741  0.255814\n",
       "2010   6133  0.021197  0.032774  0.060166  0.104027  0.277841\n",
       "2011   1129  0.059345  0.093003  0.154119  0.210806  0.431355"
      ]
     },
     "execution_count": 7,
     "metadata": {},
     "output_type": "execute_result"
    }
   ],
   "source": [
    "# Hit Rate\n",
    "\n",
    "evaluator.get_hit_rates()"
   ]
  },
  {
   "cell_type": "code",
   "execution_count": 8,
   "id": "8ce3b66c",
   "metadata": {},
   "outputs": [
    {
     "data": {
      "text/html": [
       "<div>\n",
       "<style scoped>\n",
       "    .dataframe tbody tr th:only-of-type {\n",
       "        vertical-align: middle;\n",
       "    }\n",
       "\n",
       "    .dataframe tbody tr th {\n",
       "        vertical-align: top;\n",
       "    }\n",
       "\n",
       "    .dataframe thead th {\n",
       "        text-align: right;\n",
       "    }\n",
       "</style>\n",
       "<table border=\"1\" class=\"dataframe\">\n",
       "  <thead>\n",
       "    <tr style=\"text-align: right;\">\n",
       "      <th></th>\n",
       "      <th>cases</th>\n",
       "      <th>mrr</th>\n",
       "    </tr>\n",
       "  </thead>\n",
       "  <tbody>\n",
       "    <tr>\n",
       "      <th>2008</th>\n",
       "      <td>2608</td>\n",
       "      <td>0.027396</td>\n",
       "    </tr>\n",
       "    <tr>\n",
       "      <th>2009</th>\n",
       "      <td>3086</td>\n",
       "      <td>0.020595</td>\n",
       "    </tr>\n",
       "    <tr>\n",
       "      <th>2010</th>\n",
       "      <td>4306</td>\n",
       "      <td>0.023603</td>\n",
       "    </tr>\n",
       "    <tr>\n",
       "      <th>2011</th>\n",
       "      <td>878</td>\n",
       "      <td>0.060311</td>\n",
       "    </tr>\n",
       "  </tbody>\n",
       "</table>\n",
       "</div>"
      ],
      "text/plain": [
       "      cases       mrr\n",
       "2008   2608  0.027396\n",
       "2009   3086  0.020595\n",
       "2010   4306  0.023603\n",
       "2011    878  0.060311"
      ]
     },
     "execution_count": 8,
     "metadata": {},
     "output_type": "execute_result"
    }
   ],
   "source": [
    "# Mean Reciprocal Rank\n",
    "\n",
    "evaluator.get_mrr()"
   ]
  },
  {
   "cell_type": "code",
   "execution_count": 9,
   "id": "434dd14e",
   "metadata": {},
   "outputs": [
    {
     "data": {
      "text/html": [
       "<div>\n",
       "<style scoped>\n",
       "    .dataframe tbody tr th:only-of-type {\n",
       "        vertical-align: middle;\n",
       "    }\n",
       "\n",
       "    .dataframe tbody tr th {\n",
       "        vertical-align: top;\n",
       "    }\n",
       "\n",
       "    .dataframe thead th {\n",
       "        text-align: right;\n",
       "    }\n",
       "</style>\n",
       "<table border=\"1\" class=\"dataframe\">\n",
       "  <thead>\n",
       "    <tr style=\"text-align: right;\">\n",
       "      <th></th>\n",
       "      <th>count</th>\n",
       "      <th>mean</th>\n",
       "      <th>std</th>\n",
       "      <th>min</th>\n",
       "      <th>25%</th>\n",
       "      <th>50%</th>\n",
       "      <th>75%</th>\n",
       "      <th>max</th>\n",
       "    </tr>\n",
       "    <tr>\n",
       "      <th>task</th>\n",
       "      <th></th>\n",
       "      <th></th>\n",
       "      <th></th>\n",
       "      <th></th>\n",
       "      <th></th>\n",
       "      <th></th>\n",
       "      <th></th>\n",
       "      <th></th>\n",
       "    </tr>\n",
       "  </thead>\n",
       "  <tbody>\n",
       "    <tr>\n",
       "      <th>model_fit</th>\n",
       "      <td>4.0</td>\n",
       "      <td>2.398635</td>\n",
       "      <td>0.499831</td>\n",
       "      <td>1.913306</td>\n",
       "      <td>2.020709</td>\n",
       "      <td>2.351856</td>\n",
       "      <td>2.729782</td>\n",
       "      <td>2.977525</td>\n",
       "    </tr>\n",
       "    <tr>\n",
       "      <th>model_init</th>\n",
       "      <td>4.0</td>\n",
       "      <td>0.000024</td>\n",
       "      <td>0.000009</td>\n",
       "      <td>0.000015</td>\n",
       "      <td>0.000017</td>\n",
       "      <td>0.000024</td>\n",
       "      <td>0.000031</td>\n",
       "      <td>0.000034</td>\n",
       "    </tr>\n",
       "    <tr>\n",
       "      <th>recommend_user</th>\n",
       "      <td>2622.0</td>\n",
       "      <td>0.000693</td>\n",
       "      <td>0.000377</td>\n",
       "      <td>0.000337</td>\n",
       "      <td>0.000515</td>\n",
       "      <td>0.000654</td>\n",
       "      <td>0.000795</td>\n",
       "      <td>0.008431</td>\n",
       "    </tr>\n",
       "  </tbody>\n",
       "</table>\n",
       "</div>"
      ],
      "text/plain": [
       "                 count      mean       std       min       25%       50%  \\\n",
       "task                                                                       \n",
       "model_fit          4.0  2.398635  0.499831  1.913306  2.020709  2.351856   \n",
       "model_init         4.0  0.000024  0.000009  0.000015  0.000017  0.000024   \n",
       "recommend_user  2622.0  0.000693  0.000377  0.000337  0.000515  0.000654   \n",
       "\n",
       "                     75%       max  \n",
       "task                                \n",
       "model_fit       2.729782  2.977525  \n",
       "model_init      0.000031  0.000034  \n",
       "recommend_user  0.000795  0.008431  "
      ]
     },
     "execution_count": 9,
     "metadata": {},
     "output_type": "execute_result"
    }
   ],
   "source": [
    "# Times\n",
    "\n",
    "evaluator.get_times()"
   ]
  },
  {
   "cell_type": "code",
   "execution_count": 10,
   "id": "7cba8baf",
   "metadata": {},
   "outputs": [
    {
     "data": {
      "text/html": [
       "<div>\n",
       "<style scoped>\n",
       "    .dataframe tbody tr th:only-of-type {\n",
       "        vertical-align: middle;\n",
       "    }\n",
       "\n",
       "    .dataframe tbody tr th {\n",
       "        vertical-align: top;\n",
       "    }\n",
       "\n",
       "    .dataframe thead th {\n",
       "        text-align: right;\n",
       "    }\n",
       "</style>\n",
       "<table border=\"1\" class=\"dataframe\">\n",
       "  <thead>\n",
       "    <tr style=\"text-align: right;\">\n",
       "      <th></th>\n",
       "      <th>tag</th>\n",
       "      <th>time</th>\n",
       "    </tr>\n",
       "    <tr>\n",
       "      <th>task</th>\n",
       "      <th></th>\n",
       "      <th></th>\n",
       "    </tr>\n",
       "  </thead>\n",
       "  <tbody>\n",
       "    <tr>\n",
       "      <th>model_fit</th>\n",
       "      <td>model_fit_2008</td>\n",
       "      <td>1.913306</td>\n",
       "    </tr>\n",
       "    <tr>\n",
       "      <th>model_fit</th>\n",
       "      <td>model_fit_2009</td>\n",
       "      <td>2.056509</td>\n",
       "    </tr>\n",
       "    <tr>\n",
       "      <th>model_fit</th>\n",
       "      <td>model_fit_2010</td>\n",
       "      <td>2.647202</td>\n",
       "    </tr>\n",
       "    <tr>\n",
       "      <th>model_fit</th>\n",
       "      <td>model_fit_2011</td>\n",
       "      <td>2.977525</td>\n",
       "    </tr>\n",
       "  </tbody>\n",
       "</table>\n",
       "</div>"
      ],
      "text/plain": [
       "                      tag      time\n",
       "task                               \n",
       "model_fit  model_fit_2008  1.913306\n",
       "model_fit  model_fit_2009  2.056509\n",
       "model_fit  model_fit_2010  2.647202\n",
       "model_fit  model_fit_2011  2.977525"
      ]
     },
     "execution_count": 10,
     "metadata": {},
     "output_type": "execute_result"
    }
   ],
   "source": [
    "evaluator.get_fit_per_year_times()"
   ]
  }
 ],
 "metadata": {
  "kernelspec": {
   "display_name": "Python [conda env:mlg] *",
   "language": "python",
   "name": "conda-env-mlg-py"
  },
  "language_info": {
   "codemirror_mode": {
    "name": "ipython",
    "version": 3
   },
   "file_extension": ".py",
   "mimetype": "text/x-python",
   "name": "python",
   "nbconvert_exporter": "python",
   "pygments_lexer": "ipython3",
   "version": "3.7.11"
  }
 },
 "nbformat": 4,
 "nbformat_minor": 5
}
