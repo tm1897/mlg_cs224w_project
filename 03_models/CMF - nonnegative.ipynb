{
 "cells": [
  {
   "cell_type": "markdown",
   "metadata": {},
   "source": [
    "# Non-negative Matrix Factorization (CMF)\n",
    "## Init"
   ]
  },
  {
   "cell_type": "code",
   "execution_count": 1,
   "metadata": {},
   "outputs": [],
   "source": [
    "import numpy as np\n",
    "import pandas as pd\n",
    "from scipy import sparse\n",
    "from functools import partial\n",
    "\n",
    "import plotly.express as px\n",
    "\n",
    "\n",
    "# import implicit # Matrix Factorization\n",
    "\n",
    "from sklearn.decomposition import NMF\n",
    "from sklearn.model_selection import KFold\n",
    "from cmfrec import CMF_implicit"
   ]
  },
  {
   "cell_type": "code",
   "execution_count": 2,
   "metadata": {
    "pycharm": {
     "name": "#%%\n"
    }
   },
   "outputs": [],
   "source": [
    "import sys\n",
    "sys.path.append(\"../\")\n",
    "from src.data_preprocessing import TrainTestGenerator\n",
    "from src.evaluator import Evaluator"
   ]
  },
  {
   "cell_type": "code",
   "execution_count": 3,
   "metadata": {},
   "outputs": [],
   "source": [
    "show_ploty = False"
   ]
  },
  {
   "cell_type": "code",
   "execution_count": 4,
   "metadata": {
    "pycharm": {
     "name": "#%%\n"
    }
   },
   "outputs": [],
   "source": [
    "data_dir = \"../data/\"\n",
    "data_generator = TrainTestGenerator(data_dir)"
   ]
  },
  {
   "cell_type": "markdown",
   "metadata": {},
   "source": [
    "## Model"
   ]
  },
  {
   "cell_type": "code",
   "execution_count": 5,
   "metadata": {
    "pycharm": {
     "name": "#%%\n"
    }
   },
   "outputs": [],
   "source": [
    "# Model wrapper\n",
    "\n",
    "class CMF_recommender:\n",
    "    def __init__(self, k=50):\n",
    "        self.model = CMF_implicit(\n",
    "            # verbose=False,\n",
    "            # method=\"als\",\n",
    "            nonneg=True,\n",
    "            k=k,\n",
    "            random_state=1,\n",
    "            # lambda_=1e+1\n",
    "        )\n",
    "\n",
    "    def fit(self, data: pd.DataFrame):\n",
    "        data = data.copy()\n",
    "        data = data.rename(columns={\n",
    "            \"userID\": \"UserId\",\n",
    "            \"artistID\": \"ItemId\",\n",
    "            \"weight\": \"Rating\"\n",
    "        })\n",
    "        self.model.fit(data)\n",
    "\n",
    "    def recommend(self, user_id, n):\n",
    "        recommendations = self.model.topN(user_id, n=n)\n",
    "        return recommendations"
   ]
  },
  {
   "cell_type": "markdown",
   "metadata": {},
   "source": [
    "## Evaluation"
   ]
  },
  {
   "cell_type": "code",
   "execution_count": 6,
   "metadata": {
    "pycharm": {
     "name": "#%%\n"
    }
   },
   "outputs": [],
   "source": [
    "# Evaluator (forward chaining)\n",
    "\n",
    "evaluator = Evaluator(CMF_recommender, data_generator)\n",
    "evaluator.evaluate()\n",
    "\n",
    "# evaluator.save_results(\"../results/nmf-true.csv\")"
   ]
  },
  {
   "cell_type": "code",
   "execution_count": 7,
   "metadata": {},
   "outputs": [
    {
     "data": {
      "text/html": [
       "<div>\n",
       "<style scoped>\n",
       "    .dataframe tbody tr th:only-of-type {\n",
       "        vertical-align: middle;\n",
       "    }\n",
       "\n",
       "    .dataframe tbody tr th {\n",
       "        vertical-align: top;\n",
       "    }\n",
       "\n",
       "    .dataframe thead th {\n",
       "        text-align: right;\n",
       "    }\n",
       "</style>\n",
       "<table border=\"1\" class=\"dataframe\">\n",
       "  <thead>\n",
       "    <tr style=\"text-align: right;\">\n",
       "      <th></th>\n",
       "      <th>cases</th>\n",
       "      <th>5</th>\n",
       "      <th>10</th>\n",
       "      <th>25</th>\n",
       "      <th>50</th>\n",
       "      <th>500</th>\n",
       "    </tr>\n",
       "  </thead>\n",
       "  <tbody>\n",
       "    <tr>\n",
       "      <th>2008</th>\n",
       "      <td>4556</td>\n",
       "      <td>0.012511</td>\n",
       "      <td>0.017779</td>\n",
       "      <td>0.037972</td>\n",
       "      <td>0.072212</td>\n",
       "      <td>0.300922</td>\n",
       "    </tr>\n",
       "    <tr>\n",
       "      <th>2009</th>\n",
       "      <td>4687</td>\n",
       "      <td>0.008961</td>\n",
       "      <td>0.013868</td>\n",
       "      <td>0.026029</td>\n",
       "      <td>0.049712</td>\n",
       "      <td>0.259441</td>\n",
       "    </tr>\n",
       "    <tr>\n",
       "      <th>2010</th>\n",
       "      <td>6133</td>\n",
       "      <td>0.015164</td>\n",
       "      <td>0.024458</td>\n",
       "      <td>0.045981</td>\n",
       "      <td>0.070276</td>\n",
       "      <td>0.295940</td>\n",
       "    </tr>\n",
       "    <tr>\n",
       "      <th>2011</th>\n",
       "      <td>1129</td>\n",
       "      <td>0.018601</td>\n",
       "      <td>0.035430</td>\n",
       "      <td>0.062888</td>\n",
       "      <td>0.098317</td>\n",
       "      <td>0.365810</td>\n",
       "    </tr>\n",
       "  </tbody>\n",
       "</table>\n",
       "</div>"
      ],
      "text/plain": [
       "      cases         5        10        25        50       500\n",
       "2008   4556  0.012511  0.017779  0.037972  0.072212  0.300922\n",
       "2009   4687  0.008961  0.013868  0.026029  0.049712  0.259441\n",
       "2010   6133  0.015164  0.024458  0.045981  0.070276  0.295940\n",
       "2011   1129  0.018601  0.035430  0.062888  0.098317  0.365810"
      ]
     },
     "execution_count": 7,
     "metadata": {},
     "output_type": "execute_result"
    }
   ],
   "source": [
    "# Hit Rate\n",
    "\n",
    "evaluator.get_hit_rates()"
   ]
  },
  {
   "cell_type": "code",
   "execution_count": 8,
   "metadata": {},
   "outputs": [
    {
     "data": {
      "text/html": [
       "<div>\n",
       "<style scoped>\n",
       "    .dataframe tbody tr th:only-of-type {\n",
       "        vertical-align: middle;\n",
       "    }\n",
       "\n",
       "    .dataframe tbody tr th {\n",
       "        vertical-align: top;\n",
       "    }\n",
       "\n",
       "    .dataframe thead th {\n",
       "        text-align: right;\n",
       "    }\n",
       "</style>\n",
       "<table border=\"1\" class=\"dataframe\">\n",
       "  <thead>\n",
       "    <tr style=\"text-align: right;\">\n",
       "      <th></th>\n",
       "      <th>cases</th>\n",
       "      <th>5</th>\n",
       "      <th>10</th>\n",
       "      <th>25</th>\n",
       "      <th>50</th>\n",
       "      <th>500</th>\n",
       "    </tr>\n",
       "  </thead>\n",
       "  <tbody>\n",
       "    <tr>\n",
       "      <th>2008</th>\n",
       "      <td>4556</td>\n",
       "      <td>0.012511</td>\n",
       "      <td>0.017779</td>\n",
       "      <td>0.037972</td>\n",
       "      <td>0.072212</td>\n",
       "      <td>0.300922</td>\n",
       "    </tr>\n",
       "    <tr>\n",
       "      <th>2009</th>\n",
       "      <td>4687</td>\n",
       "      <td>0.008961</td>\n",
       "      <td>0.013868</td>\n",
       "      <td>0.026029</td>\n",
       "      <td>0.049712</td>\n",
       "      <td>0.259441</td>\n",
       "    </tr>\n",
       "    <tr>\n",
       "      <th>2010</th>\n",
       "      <td>6133</td>\n",
       "      <td>0.015164</td>\n",
       "      <td>0.024458</td>\n",
       "      <td>0.045981</td>\n",
       "      <td>0.070276</td>\n",
       "      <td>0.295940</td>\n",
       "    </tr>\n",
       "    <tr>\n",
       "      <th>2011</th>\n",
       "      <td>1129</td>\n",
       "      <td>0.018601</td>\n",
       "      <td>0.035430</td>\n",
       "      <td>0.062888</td>\n",
       "      <td>0.098317</td>\n",
       "      <td>0.365810</td>\n",
       "    </tr>\n",
       "  </tbody>\n",
       "</table>\n",
       "</div>"
      ],
      "text/plain": [
       "      cases         5        10        25        50       500\n",
       "2008   4556  0.012511  0.017779  0.037972  0.072212  0.300922\n",
       "2009   4687  0.008961  0.013868  0.026029  0.049712  0.259441\n",
       "2010   6133  0.015164  0.024458  0.045981  0.070276  0.295940\n",
       "2011   1129  0.018601  0.035430  0.062888  0.098317  0.365810"
      ]
     },
     "execution_count": 8,
     "metadata": {},
     "output_type": "execute_result"
    }
   ],
   "source": [
    "# Hit Rate\n",
    "\n",
    "evaluator.get_hit_rates()"
   ]
  },
  {
   "cell_type": "code",
   "execution_count": 9,
   "metadata": {},
   "outputs": [
    {
     "data": {
      "text/html": [
       "<div>\n",
       "<style scoped>\n",
       "    .dataframe tbody tr th:only-of-type {\n",
       "        vertical-align: middle;\n",
       "    }\n",
       "\n",
       "    .dataframe tbody tr th {\n",
       "        vertical-align: top;\n",
       "    }\n",
       "\n",
       "    .dataframe thead th {\n",
       "        text-align: right;\n",
       "    }\n",
       "</style>\n",
       "<table border=\"1\" class=\"dataframe\">\n",
       "  <thead>\n",
       "    <tr style=\"text-align: right;\">\n",
       "      <th></th>\n",
       "      <th>cases</th>\n",
       "      <th>mrr</th>\n",
       "    </tr>\n",
       "  </thead>\n",
       "  <tbody>\n",
       "    <tr>\n",
       "      <th>2008</th>\n",
       "      <td>2608</td>\n",
       "      <td>0.018926</td>\n",
       "    </tr>\n",
       "    <tr>\n",
       "      <th>2009</th>\n",
       "      <td>3086</td>\n",
       "      <td>0.012757</td>\n",
       "    </tr>\n",
       "    <tr>\n",
       "      <th>2010</th>\n",
       "      <td>4306</td>\n",
       "      <td>0.015186</td>\n",
       "    </tr>\n",
       "    <tr>\n",
       "      <th>2011</th>\n",
       "      <td>878</td>\n",
       "      <td>0.023314</td>\n",
       "    </tr>\n",
       "  </tbody>\n",
       "</table>\n",
       "</div>"
      ],
      "text/plain": [
       "      cases       mrr\n",
       "2008   2608  0.018926\n",
       "2009   3086  0.012757\n",
       "2010   4306  0.015186\n",
       "2011    878  0.023314"
      ]
     },
     "execution_count": 9,
     "metadata": {},
     "output_type": "execute_result"
    }
   ],
   "source": [
    "# Mean Reciprocal Rank\n",
    "\n",
    "evaluator.get_mrr()"
   ]
  }
 ],
 "metadata": {
  "kernelspec": {
   "display_name": "Python [conda env:mlg] *",
   "language": "python",
   "name": "conda-env-mlg-py"
  },
  "language_info": {
   "codemirror_mode": {
    "name": "ipython",
    "version": 3
   },
   "file_extension": ".py",
   "mimetype": "text/x-python",
   "name": "python",
   "nbconvert_exporter": "python",
   "pygments_lexer": "ipython3",
   "version": "3.7.11"
  }
 },
 "nbformat": 4,
 "nbformat_minor": 1
}
