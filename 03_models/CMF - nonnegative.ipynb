{
 "cells": [
  {
   "cell_type": "markdown",
   "metadata": {},
   "source": [
    "# Non-negative Matrix Factorization (CMF)\n",
    "## Init"
   ]
  },
  {
   "cell_type": "code",
   "execution_count": 1,
   "metadata": {},
   "outputs": [],
   "source": [
    "import numpy as np\n",
    "import pandas as pd\n",
    "from scipy import sparse\n",
    "from functools import partial\n",
    "\n",
    "import plotly.express as px\n",
    "\n",
    "\n",
    "# import implicit # Matrix Factorization\n",
    "\n",
    "from sklearn.decomposition import NMF\n",
    "from sklearn.model_selection import KFold\n",
    "from cmfrec import CMF_implicit"
   ]
  },
  {
   "cell_type": "code",
   "execution_count": 2,
   "metadata": {
    "pycharm": {
     "name": "#%%\n"
    }
   },
   "outputs": [],
   "source": [
    "import sys\n",
    "sys.path.append(\"../\")\n",
    "from src.data_preprocessing import TrainTestGenerator\n",
    "from src.evaluator import Evaluator"
   ]
  },
  {
   "cell_type": "code",
   "execution_count": 3,
   "metadata": {},
   "outputs": [],
   "source": [
    "show_ploty = False"
   ]
  },
  {
   "cell_type": "code",
   "execution_count": 4,
   "metadata": {
    "pycharm": {
     "name": "#%%\n"
    }
   },
   "outputs": [],
   "source": [
    "data_dir = \"../data/\"\n",
    "data_generator = TrainTestGenerator(data_dir)"
   ]
  },
  {
   "cell_type": "markdown",
   "metadata": {},
   "source": [
    "## Model"
   ]
  },
  {
   "cell_type": "code",
   "execution_count": 5,
   "metadata": {
    "pycharm": {
     "name": "#%%\n"
    }
   },
   "outputs": [],
   "source": [
    "# Model wrapper\n",
    "\n",
    "class CMF_recommender:\n",
    "    def __init__(self, k=32):\n",
    "        self.model = CMF_implicit(\n",
    "            # verbose=False,\n",
    "            # method=\"als\",\n",
    "            nonneg=True,\n",
    "            k=k,\n",
    "            random_state=1,\n",
    "            niter=100,\n",
    "            # lambda_=1e+1\n",
    "        )\n",
    "\n",
    "    def fit(self, data: pd.DataFrame):\n",
    "        data = data.copy()\n",
    "        data = data.rename(columns={\n",
    "            \"userID\": \"UserId\",\n",
    "            \"artistID\": \"ItemId\",\n",
    "            \"weight\": \"Rating\"\n",
    "        })\n",
    "        self.model.fit(data)\n",
    "\n",
    "    def recommend(self, user_id, n):\n",
    "        recommendations = self.model.topN(user_id, n=n)\n",
    "        return recommendations"
   ]
  },
  {
   "cell_type": "markdown",
   "metadata": {},
   "source": [
    "## Evaluation"
   ]
  },
  {
   "cell_type": "code",
   "execution_count": 6,
   "metadata": {
    "pycharm": {
     "name": "#%%\n"
    }
   },
   "outputs": [],
   "source": [
    "# Evaluator (forward chaining)\n",
    "\n",
    "evaluator = Evaluator(CMF_recommender, data_generator)\n",
    "evaluator.evaluate()\n",
    "\n",
    "evaluator.save_results(\"../results/cmf_nonneg_ranks.csv\", \"../results/cmf_nonneg_times.csv\")"
   ]
  },
  {
   "cell_type": "code",
   "execution_count": 7,
   "metadata": {},
   "outputs": [
    {
     "data": {
      "text/html": [
       "<div>\n",
       "<style scoped>\n",
       "    .dataframe tbody tr th:only-of-type {\n",
       "        vertical-align: middle;\n",
       "    }\n",
       "\n",
       "    .dataframe tbody tr th {\n",
       "        vertical-align: top;\n",
       "    }\n",
       "\n",
       "    .dataframe thead th {\n",
       "        text-align: right;\n",
       "    }\n",
       "</style>\n",
       "<table border=\"1\" class=\"dataframe\">\n",
       "  <thead>\n",
       "    <tr style=\"text-align: right;\">\n",
       "      <th></th>\n",
       "      <th>cases</th>\n",
       "      <th>5</th>\n",
       "      <th>10</th>\n",
       "      <th>25</th>\n",
       "      <th>50</th>\n",
       "      <th>500</th>\n",
       "    </tr>\n",
       "  </thead>\n",
       "  <tbody>\n",
       "    <tr>\n",
       "      <th>2008</th>\n",
       "      <td>4556</td>\n",
       "      <td>0.006804</td>\n",
       "      <td>0.013169</td>\n",
       "      <td>0.025461</td>\n",
       "      <td>0.039508</td>\n",
       "      <td>0.267998</td>\n",
       "    </tr>\n",
       "    <tr>\n",
       "      <th>2009</th>\n",
       "      <td>4687</td>\n",
       "      <td>0.006187</td>\n",
       "      <td>0.012375</td>\n",
       "      <td>0.024109</td>\n",
       "      <td>0.041604</td>\n",
       "      <td>0.226371</td>\n",
       "    </tr>\n",
       "    <tr>\n",
       "      <th>2010</th>\n",
       "      <td>6133</td>\n",
       "      <td>0.009946</td>\n",
       "      <td>0.018262</td>\n",
       "      <td>0.044676</td>\n",
       "      <td>0.068645</td>\n",
       "      <td>0.295125</td>\n",
       "    </tr>\n",
       "    <tr>\n",
       "      <th>2011</th>\n",
       "      <td>1129</td>\n",
       "      <td>0.034544</td>\n",
       "      <td>0.048716</td>\n",
       "      <td>0.088574</td>\n",
       "      <td>0.137290</td>\n",
       "      <td>0.376439</td>\n",
       "    </tr>\n",
       "  </tbody>\n",
       "</table>\n",
       "</div>"
      ],
      "text/plain": [
       "      cases         5        10        25        50       500\n",
       "2008   4556  0.006804  0.013169  0.025461  0.039508  0.267998\n",
       "2009   4687  0.006187  0.012375  0.024109  0.041604  0.226371\n",
       "2010   6133  0.009946  0.018262  0.044676  0.068645  0.295125\n",
       "2011   1129  0.034544  0.048716  0.088574  0.137290  0.376439"
      ]
     },
     "execution_count": 7,
     "metadata": {},
     "output_type": "execute_result"
    }
   ],
   "source": [
    "# Hit Rate\n",
    "\n",
    "evaluator.get_hit_rates()"
   ]
  },
  {
   "cell_type": "code",
   "execution_count": 8,
   "metadata": {},
   "outputs": [
    {
     "data": {
      "text/html": [
       "<div>\n",
       "<style scoped>\n",
       "    .dataframe tbody tr th:only-of-type {\n",
       "        vertical-align: middle;\n",
       "    }\n",
       "\n",
       "    .dataframe tbody tr th {\n",
       "        vertical-align: top;\n",
       "    }\n",
       "\n",
       "    .dataframe thead th {\n",
       "        text-align: right;\n",
       "    }\n",
       "</style>\n",
       "<table border=\"1\" class=\"dataframe\">\n",
       "  <thead>\n",
       "    <tr style=\"text-align: right;\">\n",
       "      <th></th>\n",
       "      <th>cases</th>\n",
       "      <th>mrr</th>\n",
       "    </tr>\n",
       "  </thead>\n",
       "  <tbody>\n",
       "    <tr>\n",
       "      <th>2008</th>\n",
       "      <td>2608</td>\n",
       "      <td>0.013239</td>\n",
       "    </tr>\n",
       "    <tr>\n",
       "      <th>2009</th>\n",
       "      <td>3086</td>\n",
       "      <td>0.009615</td>\n",
       "    </tr>\n",
       "    <tr>\n",
       "      <th>2010</th>\n",
       "      <td>4306</td>\n",
       "      <td>0.015174</td>\n",
       "    </tr>\n",
       "    <tr>\n",
       "      <th>2011</th>\n",
       "      <td>878</td>\n",
       "      <td>0.034374</td>\n",
       "    </tr>\n",
       "  </tbody>\n",
       "</table>\n",
       "</div>"
      ],
      "text/plain": [
       "      cases       mrr\n",
       "2008   2608  0.013239\n",
       "2009   3086  0.009615\n",
       "2010   4306  0.015174\n",
       "2011    878  0.034374"
      ]
     },
     "execution_count": 8,
     "metadata": {},
     "output_type": "execute_result"
    }
   ],
   "source": [
    "# Mean Reciprocal Rank\n",
    "\n",
    "evaluator.get_mrr()"
   ]
  },
  {
   "cell_type": "code",
   "execution_count": 9,
   "metadata": {},
   "outputs": [
    {
     "data": {
      "text/html": [
       "<div>\n",
       "<style scoped>\n",
       "    .dataframe tbody tr th:only-of-type {\n",
       "        vertical-align: middle;\n",
       "    }\n",
       "\n",
       "    .dataframe tbody tr th {\n",
       "        vertical-align: top;\n",
       "    }\n",
       "\n",
       "    .dataframe thead th {\n",
       "        text-align: right;\n",
       "    }\n",
       "</style>\n",
       "<table border=\"1\" class=\"dataframe\">\n",
       "  <thead>\n",
       "    <tr style=\"text-align: right;\">\n",
       "      <th></th>\n",
       "      <th>count</th>\n",
       "      <th>mean</th>\n",
       "      <th>std</th>\n",
       "      <th>min</th>\n",
       "      <th>25%</th>\n",
       "      <th>50%</th>\n",
       "      <th>75%</th>\n",
       "      <th>max</th>\n",
       "    </tr>\n",
       "    <tr>\n",
       "      <th>task</th>\n",
       "      <th></th>\n",
       "      <th></th>\n",
       "      <th></th>\n",
       "      <th></th>\n",
       "      <th></th>\n",
       "      <th></th>\n",
       "      <th></th>\n",
       "      <th></th>\n",
       "    </tr>\n",
       "  </thead>\n",
       "  <tbody>\n",
       "    <tr>\n",
       "      <th>model_fit</th>\n",
       "      <td>4.0</td>\n",
       "      <td>4.622826</td>\n",
       "      <td>0.443652</td>\n",
       "      <td>4.167398</td>\n",
       "      <td>4.282040</td>\n",
       "      <td>4.638031</td>\n",
       "      <td>4.978817</td>\n",
       "      <td>5.047843</td>\n",
       "    </tr>\n",
       "    <tr>\n",
       "      <th>model_init</th>\n",
       "      <td>4.0</td>\n",
       "      <td>0.000024</td>\n",
       "      <td>0.000012</td>\n",
       "      <td>0.000015</td>\n",
       "      <td>0.000018</td>\n",
       "      <td>0.000020</td>\n",
       "      <td>0.000026</td>\n",
       "      <td>0.000042</td>\n",
       "    </tr>\n",
       "    <tr>\n",
       "      <th>recommend_user</th>\n",
       "      <td>2622.0</td>\n",
       "      <td>0.000767</td>\n",
       "      <td>0.000396</td>\n",
       "      <td>0.000374</td>\n",
       "      <td>0.000604</td>\n",
       "      <td>0.000728</td>\n",
       "      <td>0.000853</td>\n",
       "      <td>0.011483</td>\n",
       "    </tr>\n",
       "  </tbody>\n",
       "</table>\n",
       "</div>"
      ],
      "text/plain": [
       "                 count      mean       std       min       25%       50%  \\\n",
       "task                                                                       \n",
       "model_fit          4.0  4.622826  0.443652  4.167398  4.282040  4.638031   \n",
       "model_init         4.0  0.000024  0.000012  0.000015  0.000018  0.000020   \n",
       "recommend_user  2622.0  0.000767  0.000396  0.000374  0.000604  0.000728   \n",
       "\n",
       "                     75%       max  \n",
       "task                                \n",
       "model_fit       4.978817  5.047843  \n",
       "model_init      0.000026  0.000042  \n",
       "recommend_user  0.000853  0.011483  "
      ]
     },
     "execution_count": 9,
     "metadata": {},
     "output_type": "execute_result"
    }
   ],
   "source": [
    "# Times\n",
    "\n",
    "evaluator.get_times()"
   ]
  },
  {
   "cell_type": "code",
   "execution_count": 10,
   "metadata": {},
   "outputs": [
    {
     "data": {
      "text/html": [
       "<div>\n",
       "<style scoped>\n",
       "    .dataframe tbody tr th:only-of-type {\n",
       "        vertical-align: middle;\n",
       "    }\n",
       "\n",
       "    .dataframe tbody tr th {\n",
       "        vertical-align: top;\n",
       "    }\n",
       "\n",
       "    .dataframe thead th {\n",
       "        text-align: right;\n",
       "    }\n",
       "</style>\n",
       "<table border=\"1\" class=\"dataframe\">\n",
       "  <thead>\n",
       "    <tr style=\"text-align: right;\">\n",
       "      <th></th>\n",
       "      <th>tag</th>\n",
       "      <th>time</th>\n",
       "    </tr>\n",
       "    <tr>\n",
       "      <th>task</th>\n",
       "      <th></th>\n",
       "      <th></th>\n",
       "    </tr>\n",
       "  </thead>\n",
       "  <tbody>\n",
       "    <tr>\n",
       "      <th>model_fit</th>\n",
       "      <td>model_fit_2008</td>\n",
       "      <td>4.167398</td>\n",
       "    </tr>\n",
       "    <tr>\n",
       "      <th>model_fit</th>\n",
       "      <td>model_fit_2009</td>\n",
       "      <td>4.320253</td>\n",
       "    </tr>\n",
       "    <tr>\n",
       "      <th>model_fit</th>\n",
       "      <td>model_fit_2010</td>\n",
       "      <td>5.047843</td>\n",
       "    </tr>\n",
       "    <tr>\n",
       "      <th>model_fit</th>\n",
       "      <td>model_fit_2011</td>\n",
       "      <td>4.955809</td>\n",
       "    </tr>\n",
       "  </tbody>\n",
       "</table>\n",
       "</div>"
      ],
      "text/plain": [
       "                      tag      time\n",
       "task                               \n",
       "model_fit  model_fit_2008  4.167398\n",
       "model_fit  model_fit_2009  4.320253\n",
       "model_fit  model_fit_2010  5.047843\n",
       "model_fit  model_fit_2011  4.955809"
      ]
     },
     "execution_count": 10,
     "metadata": {},
     "output_type": "execute_result"
    }
   ],
   "source": [
    "evaluator.get_fit_per_year_times()"
   ]
  }
 ],
 "metadata": {
  "kernelspec": {
   "display_name": "Python [conda env:mlg] *",
   "language": "python",
   "name": "conda-env-mlg-py"
  },
  "language_info": {
   "codemirror_mode": {
    "name": "ipython",
    "version": 3
   },
   "file_extension": ".py",
   "mimetype": "text/x-python",
   "name": "python",
   "nbconvert_exporter": "python",
   "pygments_lexer": "ipython3",
   "version": "3.7.11"
  }
 },
 "nbformat": 4,
 "nbformat_minor": 1
}
