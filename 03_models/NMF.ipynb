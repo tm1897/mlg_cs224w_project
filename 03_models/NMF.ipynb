{
 "cells": [
  {
   "cell_type": "markdown",
   "id": "931ec74d",
   "metadata": {},
   "source": [
    "# NMF - Non-negative matrix factorization"
   ]
  },
  {
   "cell_type": "markdown",
   "id": "67ad87db",
   "metadata": {},
   "source": [
    "## Init"
   ]
  },
  {
   "cell_type": "code",
   "execution_count": 1,
   "id": "571ee595",
   "metadata": {},
   "outputs": [],
   "source": [
    "import numpy as np\n",
    "import pandas as pd\n",
    "from scipy import sparse\n",
    "from functools import partial\n",
    "\n",
    "import plotly.express as px\n",
    "from sklearn.preprocessing import OrdinalEncoder"
   ]
  },
  {
   "cell_type": "code",
   "execution_count": 2,
   "id": "32d02765",
   "metadata": {},
   "outputs": [],
   "source": [
    "import sys\n",
    "sys.path.append(\"../\")\n",
    "from src.data_preprocessing import TrainTestGenerator\n",
    "from src.evaluator import Evaluator"
   ]
  },
  {
   "cell_type": "code",
   "execution_count": 3,
   "id": "e1099f28",
   "metadata": {},
   "outputs": [],
   "source": [
    "data_dir = \"../data/\"\n",
    "data_generator = TrainTestGenerator(data_dir)"
   ]
  },
  {
   "cell_type": "markdown",
   "id": "53c91b87",
   "metadata": {},
   "source": [
    "## NMF code"
   ]
  },
  {
   "cell_type": "code",
   "execution_count": 4,
   "id": "a5555140",
   "metadata": {},
   "outputs": [],
   "source": [
    "def update_H(W, H, V):\n",
    "    numerator = W.T.dot(V)\n",
    "    denominator = W.T.dot(W).dot(H) + 1e-10\n",
    "    H = H*(numerator / denominator)\n",
    "    return H\n",
    "\n",
    "def update_W(W, H, V):\n",
    "    numerator = V.dot(H.T)\n",
    "    denominator = W.dot(H).dot(H.T) + 1e-10\n",
    "    W = W*(numerator / denominator)\n",
    "    return W"
   ]
  },
  {
   "cell_type": "code",
   "execution_count": 5,
   "id": "44788b01",
   "metadata": {},
   "outputs": [],
   "source": [
    "def do_nnmf(V, rank=10, iter=100):\n",
    "    \n",
    "    # Initialize \n",
    "    n, m = V.shape\n",
    "    \n",
    "    W = np.abs(np.random.randn(1, n, rank))[0]\n",
    "    H = np.abs(np.random.randn(1, rank, m))[0]\n",
    "    \n",
    "    loss = []\n",
    "    for i in range(iter):\n",
    "        H = update_H(W, H, V)\n",
    "        W = update_W(W, H, V)\n",
    "        \n",
    "        loss.append(sum((V - W.dot(H)).flatten()**2))\n",
    "\n",
    "    return H, W, loss"
   ]
  },
  {
   "cell_type": "markdown",
   "id": "0da939ea",
   "metadata": {},
   "source": [
    "## Model"
   ]
  },
  {
   "cell_type": "code",
   "execution_count": 6,
   "id": "39cdec6a",
   "metadata": {},
   "outputs": [],
   "source": [
    "# Model wrapper\n",
    "\n",
    "class NMF_recommender:\n",
    "    def __init__(self, rank=10, iter=100):\n",
    "        self.rank = rank\n",
    "        self.iter = iter\n",
    "        \n",
    "    def fit(self, data: pd.DataFrame):\n",
    "        np.random.seed(1)\n",
    "        \n",
    "        # Default rankings when userID is not in training set\n",
    "        self.default_recommendation = data[\"artistID\"].value_counts().index.tolist()\n",
    "\n",
    "        data = data.copy()\n",
    "        \n",
    "        self.user_encoder = OrdinalEncoder()\n",
    "        self.artist_encoder = OrdinalEncoder()\n",
    "        \n",
    "        data[[\"userID_ordinal\"]] = self.user_encoder.fit_transform(\n",
    "            data[[\"userID\"]].values\n",
    "        ).astype(int)\n",
    "        data[[\"artistID_ordinal\"]] = self.artist_encoder.fit_transform(\n",
    "            data[[\"artistID\"]].values\n",
    "        ).astype(int)\n",
    "\n",
    "        X = np.zeros([data[\"userID\"].nunique(), data[\"artistID\"].nunique()])\n",
    "        X = np.zeros([data[\"userID\"].nunique(), data[\"artistID\"].nunique()])\n",
    "        X[data[\"userID_ordinal\"], data[\"artistID_ordinal\"]] = 1        \n",
    "\n",
    "        H, W, loss = do_nnmf(X, self.rank, self.iter)\n",
    "        self.H = H\n",
    "        self.W = W\n",
    "\n",
    "    def recommend(self, user_id, n):\n",
    "        try: \n",
    "            user_idx = self.user_encoder.transform(np.array([[user_id]]))[0,0]\n",
    "        except ValueError:\n",
    "            recommendations = self.default_recommendation\n",
    "        else:\n",
    "            user_idx = int(user_idx)\n",
    "\n",
    "            scores = self.W[user_idx, :].dot(self.H)\n",
    "\n",
    "            recommendations_idx = np.argsort(scores)\n",
    "            recommendations_idx = recommendations_idx[:n]\n",
    "\n",
    "            recommendations = self.artist_encoder.inverse_transform(recommendations_idx.reshape(-1, 1))[:, 0]\n",
    "        \n",
    "        return recommendations"
   ]
  },
  {
   "cell_type": "markdown",
   "id": "d20a93c1",
   "metadata": {},
   "source": [
    "## Evaluation"
   ]
  },
  {
   "cell_type": "code",
   "execution_count": 7,
   "id": "0dfc7c08",
   "metadata": {},
   "outputs": [
    {
     "data": {
      "text/html": [
       "<div>\n",
       "<style scoped>\n",
       "    .dataframe tbody tr th:only-of-type {\n",
       "        vertical-align: middle;\n",
       "    }\n",
       "\n",
       "    .dataframe tbody tr th {\n",
       "        vertical-align: top;\n",
       "    }\n",
       "\n",
       "    .dataframe thead th {\n",
       "        text-align: right;\n",
       "    }\n",
       "</style>\n",
       "<table border=\"1\" class=\"dataframe\">\n",
       "  <thead>\n",
       "    <tr style=\"text-align: right;\">\n",
       "      <th></th>\n",
       "      <th>cases</th>\n",
       "      <th>5</th>\n",
       "      <th>10</th>\n",
       "      <th>25</th>\n",
       "      <th>50</th>\n",
       "      <th>500</th>\n",
       "    </tr>\n",
       "  </thead>\n",
       "  <tbody>\n",
       "    <tr>\n",
       "      <th>2008</th>\n",
       "      <td>4556</td>\n",
       "      <td>0.019315</td>\n",
       "      <td>0.034460</td>\n",
       "      <td>0.055531</td>\n",
       "      <td>0.090430</td>\n",
       "      <td>0.277875</td>\n",
       "    </tr>\n",
       "    <tr>\n",
       "      <th>2009</th>\n",
       "      <td>4687</td>\n",
       "      <td>0.024749</td>\n",
       "      <td>0.041604</td>\n",
       "      <td>0.077662</td>\n",
       "      <td>0.112225</td>\n",
       "      <td>0.315554</td>\n",
       "    </tr>\n",
       "    <tr>\n",
       "      <th>2010</th>\n",
       "      <td>6133</td>\n",
       "      <td>0.023969</td>\n",
       "      <td>0.052503</td>\n",
       "      <td>0.083972</td>\n",
       "      <td>0.118213</td>\n",
       "      <td>0.305071</td>\n",
       "    </tr>\n",
       "    <tr>\n",
       "      <th>2011</th>\n",
       "      <td>1129</td>\n",
       "      <td>0.009743</td>\n",
       "      <td>0.021258</td>\n",
       "      <td>0.044287</td>\n",
       "      <td>0.069088</td>\n",
       "      <td>0.186005</td>\n",
       "    </tr>\n",
       "  </tbody>\n",
       "</table>\n",
       "</div>"
      ],
      "text/plain": [
       "      cases         5        10        25        50       500\n",
       "2008   4556  0.019315  0.034460  0.055531  0.090430  0.277875\n",
       "2009   4687  0.024749  0.041604  0.077662  0.112225  0.315554\n",
       "2010   6133  0.023969  0.052503  0.083972  0.118213  0.305071\n",
       "2011   1129  0.009743  0.021258  0.044287  0.069088  0.186005"
      ]
     },
     "execution_count": 7,
     "metadata": {},
     "output_type": "execute_result"
    }
   ],
   "source": [
    "# Hit Rate\n",
    "# rank: 20, iter: 150\n",
    "evaluator = Evaluator(partial(NMF_recommender, rank=1, iter=1), data_generator)\n",
    "evaluator.evaluate()\n",
    "\n",
    "evaluator.get_hit_rates()"
   ]
  },
  {
   "cell_type": "code",
   "execution_count": 17,
   "id": "c3d92114",
   "metadata": {},
   "outputs": [
    {
     "data": {
      "text/plain": [
       "count    10878.000000\n",
       "mean         3.121070\n",
       "std          4.636929\n",
       "min          0.000000\n",
       "25%          0.000000\n",
       "50%          1.000000\n",
       "75%          4.000000\n",
       "max         43.000000\n",
       "dtype: float64"
      ]
     },
     "execution_count": 17,
     "metadata": {},
     "output_type": "execute_result"
    }
   ],
   "source": [
    "(evaluator.results[\"ranks\"] - evaluator.results[\"norm_ranks\"]).describe()"
   ]
  },
  {
   "cell_type": "code",
   "execution_count": null,
   "id": "1855bbf1",
   "metadata": {},
   "outputs": [],
   "source": [
    "evaluator.results[\"ranks\"]"
   ]
  },
  {
   "cell_type": "code",
   "execution_count": 9,
   "id": "806db8ee",
   "metadata": {
    "scrolled": false
   },
   "outputs": [],
   "source": [
    "# # Evaluator (forward chaining)\n",
    "\n",
    "# evaluator = Evaluator(NMF_recommender, data_generator)\n",
    "# evaluator.evaluate()\n",
    "# evaluator.save_results(\"../results/nmf_ranks.csv\", \"../results/nmf_times.csv\")"
   ]
  },
  {
   "cell_type": "code",
   "execution_count": 10,
   "id": "e5a6af53",
   "metadata": {},
   "outputs": [],
   "source": [
    "# # Hit Rate\n",
    "\n",
    "# evaluator.get_hit_rates()"
   ]
  },
  {
   "cell_type": "code",
   "execution_count": 11,
   "id": "72f99af0",
   "metadata": {},
   "outputs": [],
   "source": [
    "# # Mean Reciprocal Rank\n",
    "\n",
    "# evaluator.get_mrr()"
   ]
  },
  {
   "cell_type": "code",
   "execution_count": 12,
   "id": "02ed826d",
   "metadata": {},
   "outputs": [],
   "source": [
    "# # Times\n",
    "\n",
    "# evaluator.get_times()"
   ]
  },
  {
   "cell_type": "code",
   "execution_count": 13,
   "id": "86cac09a",
   "metadata": {},
   "outputs": [],
   "source": [
    "# evaluator.get_fit_per_year_times()"
   ]
  },
  {
   "cell_type": "code",
   "execution_count": 14,
   "id": "6ac19603",
   "metadata": {},
   "outputs": [],
   "source": [
    "# # Hit Rate\n",
    "# # rank: 20, iter: 150\n",
    "# evaluator = Evaluator(partial(NMF_recommender, rank=20, iter=150), data_generator)\n",
    "# evaluator.evaluate()\n",
    "\n",
    "# evaluator.get_hit_rates()"
   ]
  }
 ],
 "metadata": {
  "kernelspec": {
   "display_name": "Python [conda env:mlg] *",
   "language": "python",
   "name": "conda-env-mlg-py"
  },
  "language_info": {
   "codemirror_mode": {
    "name": "ipython",
    "version": 3
   },
   "file_extension": ".py",
   "mimetype": "text/x-python",
   "name": "python",
   "nbconvert_exporter": "python",
   "pygments_lexer": "ipython3",
   "version": "3.7.11"
  }
 },
 "nbformat": 4,
 "nbformat_minor": 5
}
